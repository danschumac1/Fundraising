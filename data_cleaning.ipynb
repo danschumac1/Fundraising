{
 "cells": [
  {
   "cell_type": "markdown",
   "id": "8ddaca3a",
   "metadata": {},
   "source": [
    "# IMPORTS "
   ]
  },
  {
   "cell_type": "code",
   "execution_count": 2,
   "id": "abb9eb1a",
   "metadata": {},
   "outputs": [],
   "source": [
    "import pandas as pd\n",
    "pd.set_option(\"max_colwidth\", None)\n",
    "\n",
    "import pycaret\n",
    "import numpy as np\n",
    "import matplotlib.pyplot as plt\n",
    "from pycaret.classification import * \n",
    "from sklearn.model_selection import train_test_split"
   ]
  },
  {
   "cell_type": "markdown",
   "id": "079c3618",
   "metadata": {},
   "source": [
    "# LOAD DATA"
   ]
  },
  {
   "cell_type": "markdown",
   "id": "54689234",
   "metadata": {},
   "source": [
    "##### SIMPLE"
   ]
  },
  {
   "cell_type": "code",
   "execution_count": 3,
   "id": "16443c84",
   "metadata": {},
   "outputs": [],
   "source": [
    "# READ IN TRAIN\n",
    "df = pd.read_csv('./data/fundraising.csv')\n",
    "# SPLIT INTO TRAIN AND DEV\n",
    "train, dev = train_test_split(df, test_size=0.20, random_state=42)\n",
    "train['type'] = 'train'\n",
    "dev['type'] = 'dev'\n",
    "\n",
    "# READ IN TEST\n",
    "test = pd.read_csv('./data/future_fundraising.csv')\n",
    "\n",
    "# MAKE TARGET NANs\n",
    "test['target'] = np.nan\n",
    "test['type'] = 'test'\n",
    "\n",
    "train_dev = pd.concat([train, dev], ignore_index=True, axis=0)\n",
    "train_dev = train_dev.sample(frac=1).reset_index(drop=True)\n",
    "df = pd.concat([train_dev, test], ignore_index=True, axis=0)\n",
    "df.to_csv('./data/df.csv')"
   ]
  },
  {
   "cell_type": "markdown",
   "id": "f0e2cf37",
   "metadata": {},
   "source": [
    "##### COMPLEX"
   ]
  },
  {
   "cell_type": "code",
   "execution_count": 4,
   "id": "5031f314",
   "metadata": {},
   "outputs": [],
   "source": [
    "# Interaction between 'income' and 'wealth'\n",
    "df['interaction_wealth_income'] = df['income'] * df['wealth']\n",
    "\n",
    "# Income to Home Value Ratio\n",
    "df['income_to_home_ratio'] = df['income'] / df['home_value']\n",
    "\n",
    "# Wealth to Home Value Ratio\n",
    "df['wealth_to_home_ratio'] = df['wealth'] / df['home_value']\n",
    "\n",
    "# Gift to Income Ratio\n",
    "df['gift_to_income_ratio'] = df['lifetime_gifts'] / df['income']  # Assuming 'lifetime_gifts' is the total amount donated\n",
    "\n",
    "# Average Gift Size to Largest Gift Ratio\n",
    "df['average_gift_size_to_largest_gift_ratio'] = df['avg_gift'] / df['largest_gift']\n",
    "\n",
    "# Total Gifts to Number of Promotions\n",
    "df['total_gifts_to_number_of_promotions'] = df['lifetime_gifts'] / df['num_prom']\n",
    "\n",
    "df['homeowner_children'] = df['homeowner'].astype(str) + \"_\" + df['num_child'].astype(str)\n",
    "\n",
    "df['zip_gender'] = df['zipconvert2'].astype(str) + \"_\" + df['zipconvert3'].astype(str) + \"_\" + df['zipconvert4'].astype(str) + \"_\" + df['zipconvert5'].astype(str) + \"_\" + df['female'].astype(str)\n",
    "\n",
    "df['time_since_last_gift_bucket'] = pd.cut(df['months_since_donate'], bins=[0, 6, 12, 24, np.inf], labels=['0-6', '7-12', '13-24', '24+'])\n",
    "\n",
    "df = df.dropna()\n",
    "df.to_csv('./data/df_complex.csv')"
   ]
  }
 ],
 "metadata": {
  "hide_input": false,
  "kernelspec": {
   "display_name": "Python 3 (ipykernel)",
   "language": "python",
   "name": "python3"
  },
  "language_info": {
   "codemirror_mode": {
    "name": "ipython",
    "version": 3
   },
   "file_extension": ".py",
   "mimetype": "text/x-python",
   "name": "python",
   "nbconvert_exporter": "python",
   "pygments_lexer": "ipython3",
   "version": "3.9.12"
  }
 },
 "nbformat": 4,
 "nbformat_minor": 5
}
