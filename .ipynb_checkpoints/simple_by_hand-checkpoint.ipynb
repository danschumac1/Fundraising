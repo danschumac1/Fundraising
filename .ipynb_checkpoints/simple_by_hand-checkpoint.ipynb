{
 "cells": [
  {
   "cell_type": "code",
   "execution_count": 5,
   "id": "abb9eb1a",
   "metadata": {},
   "outputs": [],
   "source": [
    "import pandas as pd\n",
    "pd.set_option(\"max_colwidth\", None)\n",
    "\n",
    "import pycaret\n",
    "import numpy as np\n",
    "import matplotlib.pyplot as plt\n",
    "from pycaret.classification import * \n",
    "from sklearn.model_selection import train_test_split\n",
    "from sklearn.metrics import accuracy_score\n",
    "\n",
    "from functions.homebrew import *"
   ]
  },
  {
   "cell_type": "markdown",
   "id": "079c3618",
   "metadata": {},
   "source": [
    "# LOAD DATA"
   ]
  },
  {
   "cell_type": "code",
   "execution_count": 6,
   "id": "0e069b2e",
   "metadata": {},
   "outputs": [],
   "source": [
    "df = pd.read_csv('./data/df.csv').drop('Unnamed: 0', axis=1)"
   ]
  },
  {
   "cell_type": "code",
   "execution_count": 7,
   "id": "712949c2",
   "metadata": {},
   "outputs": [],
   "source": [
    "train = df[df['type'] == 'train'].drop('type',axis =1)\n",
    "dev = df[df['type'] == 'dev'].drop('type',axis =1)\n",
    "test = df[df['type'] == 'test'].drop('type',axis =1)"
   ]
  },
  {
   "cell_type": "markdown",
   "id": "a579fc95",
   "metadata": {},
   "source": [
    "# VIF"
   ]
  },
  {
   "cell_type": "code",
   "execution_count": 8,
   "id": "051b17d9",
   "metadata": {},
   "outputs": [
    {
     "name": "stdout",
     "output_type": "stream",
     "text": [
      "REMOVED: ['zipconvert5_Yes', 'avg_fam_inc', 'months_since_donate', 'med_fam_inc', 'avg_gift']\n"
     ]
    }
   ],
   "source": [
    "dummies = pd.get_dummies(train, drop_first=True)\n",
    "\n",
    "kept, removed = remove_high_vif_features(X=dummies.drop('target_No Donor', axis=1), y=dummies['target_No Donor'], vif_threshold=10)\n",
    "print('REMOVED:', removed)\n",
    "\n",
    "\n",
    "train = dummies.drop(columns=removed)\n",
    "dev = pd.get_dummies(dev, drop_first=True).drop(columns=removed)\n",
    "test = pd.get_dummies(test, drop_first=True).drop(columns=removed)"
   ]
  },
  {
   "cell_type": "markdown",
   "id": "c05b5e3d",
   "metadata": {},
   "source": [
    "### (b) Use the full data set to perform a logistic regression with Direction as the response and the five lag variables plus Volume as predictors. Use the summary function to print the results. Do any of the predictors appear to be statistically significant? If so, which ones?"
   ]
  },
  {
   "cell_type": "code",
   "execution_count": 20,
   "id": "6030dd27",
   "metadata": {},
   "outputs": [
    {
     "name": "stdout",
     "output_type": "stream",
     "text": [
      "                 Generalized Linear Model Regression Results                  \n",
      "==============================================================================\n",
      "Dep. Variable:        target_No Donor   No. Observations:                 2400\n",
      "Model:                            GLM   Df Residuals:                     2385\n",
      "Model Family:                Binomial   Df Model:                           14\n",
      "Link Function:                  Logit   Scale:                          1.0000\n",
      "Method:                          IRLS   Log-Likelihood:                -1644.6\n",
      "Date:                Mon, 29 Apr 2024   Deviance:                       3289.2\n",
      "Time:                        19:13:36   Pearson chi2:                 2.42e+03\n",
      "No. Iterations:                     4   Pseudo R-squ. (CS):            0.01555\n",
      "Covariance Type:            nonrobust                                         \n",
      "===================================================================================\n",
      "                      coef    std err          z      P>|z|      [0.025      0.975]\n",
      "-----------------------------------------------------------------------------------\n",
      "num_child           0.2487      0.109      2.273      0.023       0.034       0.463\n",
      "income             -0.0381      0.028     -1.383      0.167      -0.092       0.016\n",
      "wealth             -0.0190      0.017     -1.140      0.254      -0.052       0.014\n",
      "home_value      -2.895e-05   5.42e-05     -0.534      0.593      -0.000    7.72e-05\n",
      "pct_lt15k           0.0003      0.003      0.100      0.920      -0.007       0.007\n",
      "num_prom           -0.0021      0.002     -0.865      0.387      -0.007       0.003\n",
      "lifetime_gifts     -0.0010      0.001     -1.652      0.098      -0.002       0.000\n",
      "largest_gift       -0.0004      0.003     -0.116      0.908      -0.007       0.006\n",
      "last_gift           0.0198      0.005      3.774      0.000       0.009       0.030\n",
      "time_lag            0.0048      0.008      0.641      0.522      -0.010       0.020\n",
      "zipconvert2_Yes     0.0770      0.117      0.659      0.510      -0.152       0.306\n",
      "zipconvert3_Yes     0.0936      0.126      0.742      0.458      -0.154       0.341\n",
      "zipconvert4_Yes     0.0203      0.118      0.172      0.864      -0.211       0.252\n",
      "homeowner_Yes      -0.0736      0.102     -0.719      0.472      -0.274       0.127\n",
      "female_Yes         -0.0249      0.084     -0.297      0.766      -0.189       0.139\n",
      "===================================================================================\n"
     ]
    }
   ],
   "source": [
    "# Selecting features and target variable for training data\n",
    "X_train = train.drop(['target_No Donor'], axis =1 )\n",
    "y_train = train['target_No Donor']\n",
    "X_test = dev.drop(['target_No Donor'], axis = 1)\n",
    "y_test = dev['target_No Donor']\n",
    "\n",
    "# Fitting logistic regression model\n",
    "glm = sm.GLM(y_train, X_train, family=sm.families.Binomial())\n",
    "results = glm.fit()\n",
    "\n",
    "# Summarizing results\n",
    "print(results.summary())\n"
   ]
  },
  {
   "cell_type": "code",
   "execution_count": 19,
   "id": "cb4fef65",
   "metadata": {},
   "outputs": [
    {
     "data": {
      "text/plain": [
       "0.53"
      ]
     },
     "execution_count": 19,
     "metadata": {},
     "output_type": "execute_result"
    }
   ],
   "source": [
    "preds = (results.predict(X_test) >= 0.5).astype(int)\n",
    "accuracy_score(preds, y_test)"
   ]
  },
  {
   "cell_type": "markdown",
   "id": "b78f3a78",
   "metadata": {},
   "source": [
    " - Lag 2 is significant"
   ]
  },
  {
   "cell_type": "markdown",
   "id": "c86cebbf",
   "metadata": {},
   "source": [
    "### (c). Compute the confusion matrix and overall fraction of correct predictions. Explain what the confusion matrix is telling you about the types of mistakes made by logistic regression"
   ]
  },
  {
   "cell_type": "code",
   "execution_count": 8,
   "id": "8b34461e",
   "metadata": {},
   "outputs": [],
   "source": [
    "# Making predictions on the test set\n",
    "probs = results.predict(X_test)\n",
    "\n",
    "# Assigning labels based on probability threshold\n",
    "preds = np.array([0] * len(df_test))\n",
    "preds[probs > 0.5] = 1\n"
   ]
  },
  {
   "cell_type": "code",
   "execution_count": null,
   "id": "79aadf72",
   "metadata": {},
   "outputs": [],
   "source": []
  }
 ],
 "metadata": {
  "hide_input": false,
  "kernelspec": {
   "display_name": "Python 3 (ipykernel)",
   "language": "python",
   "name": "python3"
  },
  "language_info": {
   "codemirror_mode": {
    "name": "ipython",
    "version": 3
   },
   "file_extension": ".py",
   "mimetype": "text/x-python",
   "name": "python",
   "nbconvert_exporter": "python",
   "pygments_lexer": "ipython3",
   "version": "3.9.12"
  }
 },
 "nbformat": 4,
 "nbformat_minor": 5
}
