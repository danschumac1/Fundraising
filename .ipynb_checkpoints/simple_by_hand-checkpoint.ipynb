{
 "cells": [
  {
   "cell_type": "markdown",
   "id": "cbca7b82",
   "metadata": {},
   "source": [
    "# Simple Model By Hand"
   ]
  },
  {
   "cell_type": "code",
   "execution_count": 126,
   "id": "abb9eb1a",
   "metadata": {},
   "outputs": [],
   "source": [
    "import pandas as pd\n",
    "pd.set_option(\"max_colwidth\", None)\n",
    "\n",
    "import pycaret\n",
    "import numpy as np\n",
    "import matplotlib.pyplot as plt\n",
    "from pycaret.classification import * \n",
    "from sklearn.model_selection import train_test_split\n",
    "from sklearn.metrics import accuracy_score\n",
    "\n",
    "from functions.homebrew import *\n",
    "import numpy as np\n",
    "import pandas as pd\n",
    "\n",
    "from sklearn.linear_model import LogisticRegression\n",
    "from sklearn.discriminant_analysis import LinearDiscriminantAnalysis as LDA, QuadraticDiscriminantAnalysis as QDA\n",
    "from sklearn.naive_bayes import GaussianNB\n",
    "from sklearn.neighbors import KNeighborsClassifier\n",
    "from sklearn.preprocessing import StandardScaler\n",
    "from sklearn.model_selection import train_test_split, cross_val_score\n",
    "from sklearn.metrics import accuracy_score\n",
    "from tqdm import tqdm\n",
    "from itertools import combinations\n",
    "import pickle\n",
    "import os\n",
    "\n",
    "# If you're using statsmodels or ISLP for specific tasks, keep these imports\n",
    "import statsmodels.api as sm\n",
    "# Assuming ISLP and homebrew are custom modules specific to your project\n",
    "from ISLP import load_data, confusion_table\n",
    "from ISLP.models import ModelSpec as MS, summarize, contrast\n",
    "import statsmodels.api as sm\n",
    "from scipy import stats"
   ]
  },
  {
   "cell_type": "markdown",
   "id": "f63473af",
   "metadata": {},
   "source": [
    "# Helper Functions"
   ]
  },
  {
   "cell_type": "code",
   "execution_count": 127,
   "id": "63c9f2ee",
   "metadata": {},
   "outputs": [],
   "source": [
    "def convert_confusion_matrix(df, name):\n",
    "    \"\"\"\n",
    "    Converts a confusion matrix dataframe into a format with columns for model name, TP, TN, FP, FN.\n",
    "    \n",
    "    Args:\n",
    "    df (pd.DataFrame): Confusion matrix dataframe with multi-index (Truth, Predicted) and columns [0, 1].\n",
    "    \n",
    "    Returns:\n",
    "    pd.DataFrame: Reformatted dataframe with model evaluation metrics.\n",
    "    \"\"\"\n",
    "    # Extracting the values from the confusion matrix\n",
    "    tn, fp, fn, tp = df.iloc[0, 0], df.iloc[0, 1], df.iloc[1, 0], df.iloc[1, 1]\n",
    "    acc = (tp + tn) / (tp + tn + fp + fn)\n",
    "    prec = tp / (tp +fp)\n",
    "    recall = tp / (tp + fn)\n",
    "    f1 = 2 * ((prec * recall)/(prec + recall))\n",
    "    # Creating a new dataframe with the desired format\n",
    "    metrics_df = pd.DataFrame({\n",
    "        \"name\": name,\n",
    "        \"tp\": [tp],\n",
    "        \"tn\": [tn],\n",
    "        \"fp\": [fp],\n",
    "        \"fn\": [fn],\n",
    "        'acc': acc,\n",
    "        'prec': prec,\n",
    "        'recall': recall,\n",
    "        'f1': f1\n",
    "    })\n",
    "    \n",
    "    return metrics_df"
   ]
  },
  {
   "cell_type": "code",
   "execution_count": 128,
   "id": "66160318",
   "metadata": {},
   "outputs": [],
   "source": [
    "def format_results(df):\n",
    "    df = np.where(df == 1, 'Donor','No Donor')\n",
    "    return df"
   ]
  },
  {
   "cell_type": "markdown",
   "id": "079c3618",
   "metadata": {},
   "source": [
    "# LOAD DATA"
   ]
  },
  {
   "cell_type": "code",
   "execution_count": 140,
   "id": "1562d311",
   "metadata": {},
   "outputs": [],
   "source": [
    "df = pd.read_csv('./data/df.csv').drop('Unnamed: 0', axis=1)"
   ]
  },
  {
   "cell_type": "code",
   "execution_count": 141,
   "id": "712949c2",
   "metadata": {},
   "outputs": [],
   "source": [
    "train = df[df['type'] == 'train'].drop('type',axis =1)\n",
    "dev = df[df['type'] == 'dev'].drop('type',axis =1)\n",
    "test = df[df['type'] == 'test'].drop('type',axis =1)"
   ]
  },
  {
   "cell_type": "markdown",
   "id": "a579fc95",
   "metadata": {},
   "source": [
    "# VIF"
   ]
  },
  {
   "cell_type": "code",
   "execution_count": 142,
   "id": "e3f3d342",
   "metadata": {},
   "outputs": [
    {
     "name": "stdout",
     "output_type": "stream",
     "text": [
      "REMOVED: ['avg_fam_inc', 'months_since_donate', 'zipconvert5_Yes', 'med_fam_inc', 'avg_gift']\n"
     ]
    }
   ],
   "source": [
    "dummies = pd.get_dummies(df, drop_first=True)\n",
    "\n",
    "kept, removed = remove_high_vif_features(X=dummies.drop('target_No Donor', axis=1), y=dummies['target_No Donor'], vif_threshold=10)\n",
    "print('REMOVED:', removed)"
   ]
  },
  {
   "cell_type": "code",
   "execution_count": 144,
   "id": "a292ef89",
   "metadata": {},
   "outputs": [],
   "source": [
    "kept['target'] = (df['target'] == 'Donor').astype(int)"
   ]
  },
  {
   "cell_type": "code",
   "execution_count": 145,
   "id": "8bad5d1e",
   "metadata": {},
   "outputs": [],
   "source": [
    "train = kept[kept['type_train'] ==1]\n",
    "dev = kept[(kept['type_test'] == 0) & (kept['type_train'] == 0)]\n",
    "test = kept[kept['type_test'] ==1]"
   ]
  },
  {
   "cell_type": "code",
   "execution_count": 154,
   "id": "22211078",
   "metadata": {},
   "outputs": [],
   "source": [
    "# for data in [train, dev, test]:\n",
    "#     data.drop('type_train', inplace = True, axis = 1)\n",
    "#     data.drop('type_test', inplace = True, axis = 1)\n",
    "test = test.drop('target',axis = 1)"
   ]
  },
  {
   "cell_type": "code",
   "execution_count": 174,
   "id": "d61cf00b",
   "metadata": {},
   "outputs": [
    {
     "data": {
      "image/png": "[encoded data removed]",
      "text/plain": [
       "<Figure size 720x720 with 1 Axes>"
      ]
     },
     "metadata": {
      "needs_background": "light"
     },
     "output_type": "display_data"
    }
   ],
   "source": [
    "def cor_bars(df):\n",
    "    corr = df.corr()\n",
    "    # Isolating the column that represents the correlation with the target variable\n",
    "    target_corr = corr['target'].sort_values(ascending=False)\n",
    "\n",
    "    # Removing the target variable from itself to avoid a perfect correlation display\n",
    "    target_corr = target_corr.drop(labels=['target'])\n",
    "\n",
    "    # Plotting the correlations for visual representation\n",
    "    plt.figure(figsize=(10, 10))\n",
    "    sns.barplot(x=target_corr.values, y=target_corr.index, palette='coolwarm')\n",
    "    plt.title('Correlation with Target Variable (target)')\n",
    "    plt.xlabel('Correlation Coefficient')\n",
    "    plt.ylabel('Predictors')\n",
    "    plt.show()\n",
    "cor_bars(train)"
   ]
  },
  {
   "cell_type": "markdown",
   "id": "c05b5e3d",
   "metadata": {},
   "source": [
    "# Logistic Regression"
   ]
  },
  {
   "cell_type": "code",
   "execution_count": 155,
   "id": "3cc89c3e",
   "metadata": {},
   "outputs": [
    {
     "name": "stdout",
     "output_type": "stream",
     "text": [
      "num_child\n",
      "income\n",
      "wealth\n",
      "home_value\n",
      "pct_lt15k\n",
      "num_prom\n",
      "lifetime_gifts\n",
      "largest_gift\n",
      "last_gift\n",
      "time_lag\n",
      "zipconvert2_Yes\n",
      "zipconvert3_Yes\n",
      "zipconvert4_Yes\n",
      "homeowner_Yes\n",
      "female_Yes\n",
      "type_test\n",
      "type_train\n",
      "target\n"
     ]
    }
   ],
   "source": [
    "for col in kept.columns:\n",
    "    print(col)"
   ]
  },
  {
   "cell_type": "code",
   "execution_count": 156,
   "id": "2ffc282d",
   "metadata": {},
   "outputs": [],
   "source": [
    "results_df = pd.DataFrame()"
   ]
  },
  {
   "cell_type": "code",
   "execution_count": 157,
   "id": "6030dd27",
   "metadata": {},
   "outputs": [],
   "source": [
    "# Selecting features and target variable for training data\n",
    "X_train = train.drop(['target'], axis =1 )\n",
    "y_train = train['target']\n",
    "X_test = dev.drop(['target'], axis = 1)\n",
    "y_test = dev['target']\n",
    "\n",
    "# Fitting logistic regression model\n",
    "glm = sm.GLM(y_train, X_train, family=sm.families.Binomial())\n",
    "glm = glm.fit()\n",
    "\n",
    "# Summarizing results\n",
    "# print(results.summary())"
   ]
  },
  {
   "cell_type": "code",
   "execution_count": 158,
   "id": "8a3fe3c3",
   "metadata": {},
   "outputs": [
    {
     "name": "stdout",
     "output_type": "stream",
     "text": [
      "0.53\n"
     ]
    }
   ],
   "source": [
    "log_preds = (glm.predict(X_test) >= 0.5).astype(int)\n",
    "log_acc = accuracy_score(log_preds, y_test)\n",
    "print(log_acc)\n",
    "\n",
    "d = confusion_table(log_preds,y_test)\n",
    "results_df = pd.concat([results_df,convert_confusion_matrix(d, 'Logistic Regression')])\n",
    "\n",
    "log_test_preds = (glm.predict(test) >= 0.5).astype(int)\n",
    "log_test_preds = format_results(log_test_preds)\n",
    "\n",
    "save_df = pd.DataFrame(log_test_preds, columns=['values'])\n",
    "save_df.to_csv('./preds/log.csv', index=False)"
   ]
  },
  {
   "cell_type": "markdown",
   "id": "15de79b1",
   "metadata": {},
   "source": [
    "### LDA"
   ]
  },
  {
   "cell_type": "code",
   "execution_count": 159,
   "id": "68a8fce4",
   "metadata": {},
   "outputs": [
    {
     "name": "stdout",
     "output_type": "stream",
     "text": [
      "0.5483333333333333\n"
     ]
    }
   ],
   "source": [
    "lda = LDA(store_covariance=True)\n",
    "lda.fit(X_train, y_train)\n",
    "\n",
    "lda_preds = lda.predict(X_test)\n",
    "\n",
    "lda_acc = accuracy_score(lda_preds,y_test)\n",
    "print(lda_acc)\n",
    "\n",
    "d = confusion_table(lda_preds,y_test)\n",
    "results_df = pd.concat([results_df,convert_confusion_matrix(d, 'LDA')])\n",
    "\n",
    "\n",
    "lda_test_preds = (lda.predict(test) >= 0.5).astype(int)\n",
    "lda_test_preds = format_results(lda_test_preds)\n",
    "\n",
    "save_df = pd.DataFrame(lda_test_preds, columns=['values'])\n",
    "save_df.to_csv('./preds/lda.csv', index=False)"
   ]
  },
  {
   "cell_type": "markdown",
   "id": "777fb037",
   "metadata": {},
   "source": [
    "# QDA.\n"
   ]
  },
  {
   "cell_type": "code",
   "execution_count": 160,
   "id": "a61cd6d6",
   "metadata": {
    "scrolled": true
   },
   "outputs": [
    {
     "name": "stdout",
     "output_type": "stream",
     "text": [
      "0.49\n"
     ]
    }
   ],
   "source": [
    "qda = QDA(store_covariance=True)\n",
    "qda.fit(X_train, y_train)\n",
    "\n",
    "qda_preds = qda.predict(X_test)\n",
    "\n",
    "qda_acc = accuracy_score(qda_preds,y_test)\n",
    "\n",
    "print(qda_acc)\n",
    "\n",
    "d = confusion_table(qda_preds,y_test)\n",
    "results_df = pd.concat([results_df,convert_confusion_matrix(d, 'QDA')])\n",
    "\n",
    "qda_test_preds = (qda.predict(test) >= 0.5).astype(int)\n",
    "qda_test_preds = format_results(qda_test_preds)\n",
    "\n",
    "save_df = pd.DataFrame(qda_test_preds, columns=['values'])\n",
    "save_df.to_csv('./preds/qda.csv', index=False)"
   ]
  },
  {
   "cell_type": "markdown",
   "id": "af7c98b3",
   "metadata": {},
   "source": [
    "# KNN"
   ]
  },
  {
   "cell_type": "code",
   "execution_count": 161,
   "id": "262d9062",
   "metadata": {},
   "outputs": [
    {
     "data": {
      "text/plain": [
       "0       train\n",
       "1       train\n",
       "2         dev\n",
       "3       train\n",
       "4       train\n",
       "        ...  \n",
       "3115     test\n",
       "3116     test\n",
       "3117     test\n",
       "3118     test\n",
       "3119     test\n",
       "Name: type, Length: 3120, dtype: object"
      ]
     },
     "execution_count": 161,
     "metadata": {},
     "output_type": "execute_result"
    }
   ],
   "source": [
    "df['type']"
   ]
  },
  {
   "cell_type": "code",
   "execution_count": 162,
   "id": "a91d4295",
   "metadata": {},
   "outputs": [
    {
     "name": "stdout",
     "output_type": "stream",
     "text": [
      "0.5016666666666667\n"
     ]
    }
   ],
   "source": [
    "knn1 = KNeighborsClassifier(n_neighbors=1)\n",
    "knn1.fit(X_train, y_train)\n",
    "knn1_pred = knn1.predict(X_test)\n",
    "knn1_acc = accuracy_score(knn1_pred,y_test)\n",
    "\n",
    "print(knn1_acc)\n",
    "                         \n",
    "d = confusion_table(knn1_pred, y_test)\n",
    "results_df = pd.concat([results_df,convert_confusion_matrix(d, 'KNN')])\n",
    "\n",
    "knn1_test_preds = (knn1.predict(test) >= 0.5).astype(int)\n",
    "knn1_test_preds = format_results(knn1_test_preds)\n",
    "\n",
    "save_df = pd.DataFrame(knn1_test_preds, columns=['values'])\n",
    "save_df.to_csv('./preds/knn1.csv', index=False)"
   ]
  },
  {
   "cell_type": "markdown",
   "id": "f534c6c1",
   "metadata": {},
   "source": [
    "# NB\n"
   ]
  },
  {
   "cell_type": "code",
   "execution_count": 163,
   "id": "944cfc82",
   "metadata": {},
   "outputs": [
    {
     "name": "stdout",
     "output_type": "stream",
     "text": [
      "0.5016666666666667\n"
     ]
    }
   ],
   "source": [
    "nb = GaussianNB()\n",
    "nb.fit(X_train, y_train)\n",
    "nb_preds = nb.predict(X_test)\n",
    "nb_acc = accuracy_score(nb_preds,y_test)\n",
    "\n",
    "print(nb_acc)\n",
    "save_df = pd.DataFrame(nb_preds, columns=['values'])\n",
    "save_df.to_csv('./preds/nb.csv', index=False)\n",
    "\n",
    "d = confusion_table(nb_preds, y_test)\n",
    "results_df = pd.concat([results_df,convert_confusion_matrix(d, 'Naïve Bayes')])\n",
    "\n",
    "nb_test_preds = (nb.predict(test) >= 0.5).astype(int)\n",
    "nb_test_preds = format_results(nb_test_preds)\n",
    "\n",
    "save_df = pd.DataFrame(nb_test_preds, columns=['values'])\n",
    "save_df.to_csv('./preds/nb.csv', index=False)"
   ]
  },
  {
   "cell_type": "code",
   "execution_count": 1,
   "id": "6bdb1989",
   "metadata": {},
   "outputs": [],
   "source": [
    "# results_df"
   ]
  },
  {
   "cell_type": "code",
   "execution_count": 168,
   "id": "58a54955",
   "metadata": {},
   "outputs": [],
   "source": [
    "test_acc = { # these are from running on the website\n",
    "    'log': 0.5333333,\n",
    "    'lda': 0.5583333,\n",
    "    'qda': 0.525,\n",
    "    'knn':  0.475,\n",
    "    'nb': 0.5166667,\n",
    "}"
   ]
  },
  {
   "cell_type": "code",
   "execution_count": 169,
   "id": "656fc888",
   "metadata": {},
   "outputs": [],
   "source": [
    "results_df['test_acc'] = test_acc.values()"
   ]
  },
  {
   "cell_type": "code",
   "execution_count": 170,
   "id": "c1484e80",
   "metadata": {},
   "outputs": [
    {
     "data": {
      "text/html": [
       "<div>\n",
       "<style scoped>\n",
       "    .dataframe tbody tr th:only-of-type {\n",
       "        vertical-align: middle;\n",
       "    }\n",
       "\n",
       "    .dataframe tbody tr th {\n",
       "        vertical-align: top;\n",
       "    }\n",
       "\n",
       "    .dataframe thead th {\n",
       "        text-align: right;\n",
       "    }\n",
       "</style>\n",
       "<table border=\"1\" class=\"dataframe\">\n",
       "  <thead>\n",
       "    <tr style=\"text-align: right;\">\n",
       "      <th></th>\n",
       "      <th>name</th>\n",
       "      <th>tp</th>\n",
       "      <th>tn</th>\n",
       "      <th>fp</th>\n",
       "      <th>fn</th>\n",
       "      <th>acc</th>\n",
       "      <th>prec</th>\n",
       "      <th>recall</th>\n",
       "      <th>f1</th>\n",
       "      <th>test_acc</th>\n",
       "    </tr>\n",
       "  </thead>\n",
       "  <tbody>\n",
       "    <tr>\n",
       "      <th>0</th>\n",
       "      <td>Logistic Regression</td>\n",
       "      <td>167</td>\n",
       "      <td>151</td>\n",
       "      <td>145</td>\n",
       "      <td>137</td>\n",
       "      <td>0.530000</td>\n",
       "      <td>0.535256</td>\n",
       "      <td>0.549342</td>\n",
       "      <td>0.542208</td>\n",
       "      <td>0.533333</td>\n",
       "    </tr>\n",
       "    <tr>\n",
       "      <th>0</th>\n",
       "      <td>LDA</td>\n",
       "      <td>163</td>\n",
       "      <td>166</td>\n",
       "      <td>149</td>\n",
       "      <td>122</td>\n",
       "      <td>0.548333</td>\n",
       "      <td>0.522436</td>\n",
       "      <td>0.571930</td>\n",
       "      <td>0.546064</td>\n",
       "      <td>0.558333</td>\n",
       "    </tr>\n",
       "    <tr>\n",
       "      <th>0</th>\n",
       "      <td>QDA</td>\n",
       "      <td>26</td>\n",
       "      <td>268</td>\n",
       "      <td>286</td>\n",
       "      <td>20</td>\n",
       "      <td>0.490000</td>\n",
       "      <td>0.083333</td>\n",
       "      <td>0.565217</td>\n",
       "      <td>0.145251</td>\n",
       "      <td>0.525000</td>\n",
       "    </tr>\n",
       "    <tr>\n",
       "      <th>0</th>\n",
       "      <td>KNN</td>\n",
       "      <td>148</td>\n",
       "      <td>153</td>\n",
       "      <td>164</td>\n",
       "      <td>135</td>\n",
       "      <td>0.501667</td>\n",
       "      <td>0.474359</td>\n",
       "      <td>0.522968</td>\n",
       "      <td>0.497479</td>\n",
       "      <td>0.475000</td>\n",
       "    </tr>\n",
       "    <tr>\n",
       "      <th>0</th>\n",
       "      <td>Naïve Bayes</td>\n",
       "      <td>38</td>\n",
       "      <td>263</td>\n",
       "      <td>274</td>\n",
       "      <td>25</td>\n",
       "      <td>0.501667</td>\n",
       "      <td>0.121795</td>\n",
       "      <td>0.603175</td>\n",
       "      <td>0.202667</td>\n",
       "      <td>0.516667</td>\n",
       "    </tr>\n",
       "  </tbody>\n",
       "</table>\n",
       "</div>"
      ],
      "text/plain": [
       "                  name   tp   tn   fp   fn       acc      prec    recall  \\\n",
       "0  Logistic Regression  167  151  145  137  0.530000  0.535256  0.549342   \n",
       "0                  LDA  163  166  149  122  0.548333  0.522436  0.571930   \n",
       "0                  QDA   26  268  286   20  0.490000  0.083333  0.565217   \n",
       "0                  KNN  148  153  164  135  0.501667  0.474359  0.522968   \n",
       "0          Naïve Bayes   38  263  274   25  0.501667  0.121795  0.603175   \n",
       "\n",
       "         f1  test_acc  \n",
       "0  0.542208  0.533333  \n",
       "0  0.546064  0.558333  \n",
       "0  0.145251  0.525000  \n",
       "0  0.497479  0.475000  \n",
       "0  0.202667  0.516667  "
      ]
     },
     "execution_count": 170,
     "metadata": {},
     "output_type": "execute_result"
    }
   ],
   "source": [
    "results_df"
   ]
  }
 ],
 "metadata": {
  "hide_input": false,
  "kernelspec": {
   "display_name": "Python 3 (ipykernel)",
   "language": "python",
   "name": "python3"
  },
  "language_info": {
   "codemirror_mode": {
    "name": "ipython",
    "version": 3
   },
   "file_extension": ".py",
   "mimetype": "text/x-python",
   "name": "python",
   "nbconvert_exporter": "python",
   "pygments_lexer": "ipython3",
   "version": "3.9.12"
  }
 },
 "nbformat": 4,
 "nbformat_minor": 5
}
