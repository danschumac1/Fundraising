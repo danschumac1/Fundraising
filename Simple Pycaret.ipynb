{
 "cells": [
  {
   "cell_type": "markdown",
   "id": "8ddaca3a",
   "metadata": {},
   "source": [
    "# IMPORTS "
   ]
  },
  {
   "cell_type": "code",
   "execution_count": 4,
   "id": "abb9eb1a",
   "metadata": {},
   "outputs": [],
   "source": [
    "import pandas as pd\n",
    "pd.set_option(\"max_colwidth\", None)\n",
    "\n",
    "import pycaret\n",
    "import numpy as np\n",
    "import matplotlib.pyplot as plt\n",
    "from pycaret.classification import * \n",
    "from sklearn.model_selection import train_test_split\n",
    "from sklearn.metrics import accuracy_score\n",
    "\n",
    "from functions.homebrew import *"
   ]
  },
  {
   "cell_type": "markdown",
   "id": "079c3618",
   "metadata": {},
   "source": [
    "# LOAD DATA"
   ]
  },
  {
   "cell_type": "code",
   "execution_count": 5,
   "id": "f866fd0e",
   "metadata": {},
   "outputs": [],
   "source": [
    "df = pd.read_csv('./data/df.csv').drop('Unnamed: 0', axis=1)"
   ]
  },
  {
   "cell_type": "code",
   "execution_count": 6,
   "id": "712949c2",
   "metadata": {},
   "outputs": [],
   "source": [
    "train = df[df['type'] == 'train'].drop('type',axis =1)\n",
    "dev = df[df['type'] == 'dev'].drop('type',axis =1)\n",
    "test = df[df['type'] == 'test'].drop('type',axis =1)"
   ]
  },
  {
   "cell_type": "markdown",
   "id": "a579fc95",
   "metadata": {},
   "source": [
    "# VIF"
   ]
  },
  {
   "cell_type": "code",
   "execution_count": 21,
   "id": "051b17d9",
   "metadata": {},
   "outputs": [
    {
     "name": "stdout",
     "output_type": "stream",
     "text": [
      "REMOVED: ['zipconvert5_Yes', 'avg_fam_inc', 'months_since_donate', 'med_fam_inc', 'avg_gift']\n"
     ]
    }
   ],
   "source": [
    "dummies = pd.get_dummies(train, drop_first=True)\n",
    "\n",
    "kept, removed = remove_high_vif_features(X=dummies.drop('target_No Donor', axis=1), y=dummies['target_No Donor'], vif_threshold=10)\n",
    "print('REMOVED:', removed)\n",
    "\n",
    "\n",
    "new_train = dummies.drop(columns=removed)\n",
    "new_dev = pd.get_dummies(dev, drop_first=True).drop(columns=removed)\n",
    "new_test = pd.get_dummies(test, drop_first=True).drop(columns=removed)"
   ]
  },
  {
   "cell_type": "code",
   "execution_count": 22,
   "id": "80a33b85",
   "metadata": {},
   "outputs": [
    {
     "data": {
      "text/plain": [
       "1    1213\n",
       "0    1187\n",
       "Name: target_No Donor, dtype: int64"
      ]
     },
     "execution_count": 22,
     "metadata": {},
     "output_type": "execute_result"
    }
   ],
   "source": [
    "new_train['target_No Donor'].value_counts()"
   ]
  },
  {
   "cell_type": "markdown",
   "id": "3cf9d1b5",
   "metadata": {},
   "source": [
    "# ATTEMPT WITH PYCARET"
   ]
  },
  {
   "cell_type": "code",
   "execution_count": 23,
   "id": "937f6956",
   "metadata": {},
   "outputs": [
    {
     "data": {
      "text/html": [
       "<style type=\"text/css\">\n",
       "#T_2e997_row8_col1, #T_2e997_row12_col1 {\n",
       "  background-color: lightgreen;\n",
       "}\n",
       "</style>\n",
       "<table id=\"T_2e997\">\n",
       "  <thead>\n",
       "    <tr>\n",
       "      <th class=\"blank level0\" >&nbsp;</th>\n",
       "      <th id=\"T_2e997_level0_col0\" class=\"col_heading level0 col0\" >Description</th>\n",
       "      <th id=\"T_2e997_level0_col1\" class=\"col_heading level0 col1\" >Value</th>\n",
       "    </tr>\n",
       "  </thead>\n",
       "  <tbody>\n",
       "    <tr>\n",
       "      <th id=\"T_2e997_level0_row0\" class=\"row_heading level0 row0\" >0</th>\n",
       "      <td id=\"T_2e997_row0_col0\" class=\"data row0 col0\" >Session id</td>\n",
       "      <td id=\"T_2e997_row0_col1\" class=\"data row0 col1\" >27</td>\n",
       "    </tr>\n",
       "    <tr>\n",
       "      <th id=\"T_2e997_level0_row1\" class=\"row_heading level0 row1\" >1</th>\n",
       "      <td id=\"T_2e997_row1_col0\" class=\"data row1 col0\" >Target</td>\n",
       "      <td id=\"T_2e997_row1_col1\" class=\"data row1 col1\" >target_No Donor</td>\n",
       "    </tr>\n",
       "    <tr>\n",
       "      <th id=\"T_2e997_level0_row2\" class=\"row_heading level0 row2\" >2</th>\n",
       "      <td id=\"T_2e997_row2_col0\" class=\"data row2 col0\" >Target type</td>\n",
       "      <td id=\"T_2e997_row2_col1\" class=\"data row2 col1\" >Binary</td>\n",
       "    </tr>\n",
       "    <tr>\n",
       "      <th id=\"T_2e997_level0_row3\" class=\"row_heading level0 row3\" >3</th>\n",
       "      <td id=\"T_2e997_row3_col0\" class=\"data row3 col0\" >Original data shape</td>\n",
       "      <td id=\"T_2e997_row3_col1\" class=\"data row3 col1\" >(2400, 16)</td>\n",
       "    </tr>\n",
       "    <tr>\n",
       "      <th id=\"T_2e997_level0_row4\" class=\"row_heading level0 row4\" >4</th>\n",
       "      <td id=\"T_2e997_row4_col0\" class=\"data row4 col0\" >Transformed data shape</td>\n",
       "      <td id=\"T_2e997_row4_col1\" class=\"data row4 col1\" >(2418, 16)</td>\n",
       "    </tr>\n",
       "    <tr>\n",
       "      <th id=\"T_2e997_level0_row5\" class=\"row_heading level0 row5\" >5</th>\n",
       "      <td id=\"T_2e997_row5_col0\" class=\"data row5 col0\" >Transformed train set shape</td>\n",
       "      <td id=\"T_2e997_row5_col1\" class=\"data row5 col1\" >(1698, 16)</td>\n",
       "    </tr>\n",
       "    <tr>\n",
       "      <th id=\"T_2e997_level0_row6\" class=\"row_heading level0 row6\" >6</th>\n",
       "      <td id=\"T_2e997_row6_col0\" class=\"data row6 col0\" >Transformed test set shape</td>\n",
       "      <td id=\"T_2e997_row6_col1\" class=\"data row6 col1\" >(720, 16)</td>\n",
       "    </tr>\n",
       "    <tr>\n",
       "      <th id=\"T_2e997_level0_row7\" class=\"row_heading level0 row7\" >7</th>\n",
       "      <td id=\"T_2e997_row7_col0\" class=\"data row7 col0\" >Numeric features</td>\n",
       "      <td id=\"T_2e997_row7_col1\" class=\"data row7 col1\" >15</td>\n",
       "    </tr>\n",
       "    <tr>\n",
       "      <th id=\"T_2e997_level0_row8\" class=\"row_heading level0 row8\" >8</th>\n",
       "      <td id=\"T_2e997_row8_col0\" class=\"data row8 col0\" >Preprocess</td>\n",
       "      <td id=\"T_2e997_row8_col1\" class=\"data row8 col1\" >True</td>\n",
       "    </tr>\n",
       "    <tr>\n",
       "      <th id=\"T_2e997_level0_row9\" class=\"row_heading level0 row9\" >9</th>\n",
       "      <td id=\"T_2e997_row9_col0\" class=\"data row9 col0\" >Imputation type</td>\n",
       "      <td id=\"T_2e997_row9_col1\" class=\"data row9 col1\" >simple</td>\n",
       "    </tr>\n",
       "    <tr>\n",
       "      <th id=\"T_2e997_level0_row10\" class=\"row_heading level0 row10\" >10</th>\n",
       "      <td id=\"T_2e997_row10_col0\" class=\"data row10 col0\" >Numeric imputation</td>\n",
       "      <td id=\"T_2e997_row10_col1\" class=\"data row10 col1\" >mean</td>\n",
       "    </tr>\n",
       "    <tr>\n",
       "      <th id=\"T_2e997_level0_row11\" class=\"row_heading level0 row11\" >11</th>\n",
       "      <td id=\"T_2e997_row11_col0\" class=\"data row11 col0\" >Categorical imputation</td>\n",
       "      <td id=\"T_2e997_row11_col1\" class=\"data row11 col1\" >mode</td>\n",
       "    </tr>\n",
       "    <tr>\n",
       "      <th id=\"T_2e997_level0_row12\" class=\"row_heading level0 row12\" >12</th>\n",
       "      <td id=\"T_2e997_row12_col0\" class=\"data row12 col0\" >Fix imbalance</td>\n",
       "      <td id=\"T_2e997_row12_col1\" class=\"data row12 col1\" >True</td>\n",
       "    </tr>\n",
       "    <tr>\n",
       "      <th id=\"T_2e997_level0_row13\" class=\"row_heading level0 row13\" >13</th>\n",
       "      <td id=\"T_2e997_row13_col0\" class=\"data row13 col0\" >Fix imbalance method</td>\n",
       "      <td id=\"T_2e997_row13_col1\" class=\"data row13 col1\" >SMOTE</td>\n",
       "    </tr>\n",
       "    <tr>\n",
       "      <th id=\"T_2e997_level0_row14\" class=\"row_heading level0 row14\" >14</th>\n",
       "      <td id=\"T_2e997_row14_col0\" class=\"data row14 col0\" >Fold Generator</td>\n",
       "      <td id=\"T_2e997_row14_col1\" class=\"data row14 col1\" >StratifiedKFold</td>\n",
       "    </tr>\n",
       "    <tr>\n",
       "      <th id=\"T_2e997_level0_row15\" class=\"row_heading level0 row15\" >15</th>\n",
       "      <td id=\"T_2e997_row15_col0\" class=\"data row15 col0\" >Fold Number</td>\n",
       "      <td id=\"T_2e997_row15_col1\" class=\"data row15 col1\" >10</td>\n",
       "    </tr>\n",
       "    <tr>\n",
       "      <th id=\"T_2e997_level0_row16\" class=\"row_heading level0 row16\" >16</th>\n",
       "      <td id=\"T_2e997_row16_col0\" class=\"data row16 col0\" >CPU Jobs</td>\n",
       "      <td id=\"T_2e997_row16_col1\" class=\"data row16 col1\" >-1</td>\n",
       "    </tr>\n",
       "    <tr>\n",
       "      <th id=\"T_2e997_level0_row17\" class=\"row_heading level0 row17\" >17</th>\n",
       "      <td id=\"T_2e997_row17_col0\" class=\"data row17 col0\" >Use GPU</td>\n",
       "      <td id=\"T_2e997_row17_col1\" class=\"data row17 col1\" >False</td>\n",
       "    </tr>\n",
       "    <tr>\n",
       "      <th id=\"T_2e997_level0_row18\" class=\"row_heading level0 row18\" >18</th>\n",
       "      <td id=\"T_2e997_row18_col0\" class=\"data row18 col0\" >Log Experiment</td>\n",
       "      <td id=\"T_2e997_row18_col1\" class=\"data row18 col1\" >False</td>\n",
       "    </tr>\n",
       "    <tr>\n",
       "      <th id=\"T_2e997_level0_row19\" class=\"row_heading level0 row19\" >19</th>\n",
       "      <td id=\"T_2e997_row19_col0\" class=\"data row19 col0\" >Experiment Name</td>\n",
       "      <td id=\"T_2e997_row19_col1\" class=\"data row19 col1\" >clf-default-name</td>\n",
       "    </tr>\n",
       "    <tr>\n",
       "      <th id=\"T_2e997_level0_row20\" class=\"row_heading level0 row20\" >20</th>\n",
       "      <td id=\"T_2e997_row20_col0\" class=\"data row20 col0\" >USI</td>\n",
       "      <td id=\"T_2e997_row20_col1\" class=\"data row20 col1\" >ebcc</td>\n",
       "    </tr>\n",
       "  </tbody>\n",
       "</table>\n"
      ],
      "text/plain": [
       "<pandas.io.formats.style.Styler at 0x2124cfc4220>"
      ]
     },
     "metadata": {},
     "output_type": "display_data"
    },
    {
     "data": {
      "text/html": [],
      "text/plain": [
       "<IPython.core.display.HTML object>"
      ]
     },
     "metadata": {},
     "output_type": "display_data"
    },
    {
     "data": {
      "text/html": [
       "<style type=\"text/css\">\n",
       "#T_5270c th {\n",
       "  text-align: left;\n",
       "}\n",
       "#T_5270c_row0_col0, #T_5270c_row0_col3, #T_5270c_row0_col5, #T_5270c_row1_col0, #T_5270c_row1_col1, #T_5270c_row1_col2, #T_5270c_row1_col3, #T_5270c_row1_col4, #T_5270c_row1_col5, #T_5270c_row1_col6, #T_5270c_row1_col7, #T_5270c_row2_col0, #T_5270c_row2_col1, #T_5270c_row2_col2, #T_5270c_row2_col3, #T_5270c_row2_col4, #T_5270c_row2_col5, #T_5270c_row2_col6, #T_5270c_row2_col7, #T_5270c_row3_col0, #T_5270c_row3_col1, #T_5270c_row3_col2, #T_5270c_row3_col3, #T_5270c_row3_col4, #T_5270c_row3_col5, #T_5270c_row3_col6, #T_5270c_row3_col7, #T_5270c_row4_col0, #T_5270c_row4_col1, #T_5270c_row4_col2, #T_5270c_row4_col3, #T_5270c_row4_col4, #T_5270c_row4_col5, #T_5270c_row4_col6, #T_5270c_row4_col7, #T_5270c_row5_col0, #T_5270c_row5_col1, #T_5270c_row5_col2, #T_5270c_row5_col3, #T_5270c_row5_col4, #T_5270c_row5_col5, #T_5270c_row5_col6, #T_5270c_row5_col7, #T_5270c_row6_col0, #T_5270c_row6_col1, #T_5270c_row6_col2, #T_5270c_row6_col3, #T_5270c_row6_col4, #T_5270c_row6_col5, #T_5270c_row6_col6, #T_5270c_row6_col7, #T_5270c_row7_col0, #T_5270c_row7_col1, #T_5270c_row7_col2, #T_5270c_row7_col3, #T_5270c_row7_col4, #T_5270c_row7_col6, #T_5270c_row7_col7, #T_5270c_row8_col0, #T_5270c_row8_col1, #T_5270c_row8_col2, #T_5270c_row8_col3, #T_5270c_row8_col4, #T_5270c_row8_col5, #T_5270c_row8_col6, #T_5270c_row8_col7, #T_5270c_row9_col0, #T_5270c_row9_col1, #T_5270c_row9_col2, #T_5270c_row9_col4, #T_5270c_row9_col6, #T_5270c_row9_col7, #T_5270c_row10_col0, #T_5270c_row10_col1, #T_5270c_row10_col2, #T_5270c_row10_col3, #T_5270c_row10_col4, #T_5270c_row10_col5, #T_5270c_row10_col6, #T_5270c_row10_col7, #T_5270c_row11_col0, #T_5270c_row11_col1, #T_5270c_row11_col2, #T_5270c_row11_col3, #T_5270c_row11_col4, #T_5270c_row11_col5, #T_5270c_row11_col6, #T_5270c_row11_col7, #T_5270c_row12_col0, #T_5270c_row12_col1, #T_5270c_row12_col2, #T_5270c_row12_col3, #T_5270c_row12_col4, #T_5270c_row12_col5, #T_5270c_row12_col6, #T_5270c_row12_col7, #T_5270c_row13_col0, #T_5270c_row13_col1, #T_5270c_row13_col2, #T_5270c_row13_col3, #T_5270c_row13_col4, #T_5270c_row13_col5, #T_5270c_row13_col6, #T_5270c_row13_col7 {\n",
       "  text-align: left;\n",
       "}\n",
       "#T_5270c_row0_col1, #T_5270c_row0_col2, #T_5270c_row0_col4, #T_5270c_row0_col6, #T_5270c_row0_col7, #T_5270c_row7_col5, #T_5270c_row9_col3, #T_5270c_row9_col5 {\n",
       "  text-align: left;\n",
       "  background-color: yellow;\n",
       "}\n",
       "#T_5270c_row0_col8, #T_5270c_row2_col8, #T_5270c_row3_col8, #T_5270c_row4_col8, #T_5270c_row5_col8, #T_5270c_row6_col8, #T_5270c_row7_col8, #T_5270c_row10_col8, #T_5270c_row11_col8, #T_5270c_row12_col8, #T_5270c_row13_col8 {\n",
       "  text-align: left;\n",
       "  background-color: lightgrey;\n",
       "}\n",
       "#T_5270c_row1_col8, #T_5270c_row8_col8, #T_5270c_row9_col8 {\n",
       "  text-align: left;\n",
       "  background-color: yellow;\n",
       "  background-color: lightgrey;\n",
       "}\n",
       "</style>\n",
       "<table id=\"T_5270c\">\n",
       "  <thead>\n",
       "    <tr>\n",
       "      <th class=\"blank level0\" >&nbsp;</th>\n",
       "      <th id=\"T_5270c_level0_col0\" class=\"col_heading level0 col0\" >Model</th>\n",
       "      <th id=\"T_5270c_level0_col1\" class=\"col_heading level0 col1\" >Accuracy</th>\n",
       "      <th id=\"T_5270c_level0_col2\" class=\"col_heading level0 col2\" >AUC</th>\n",
       "      <th id=\"T_5270c_level0_col3\" class=\"col_heading level0 col3\" >Recall</th>\n",
       "      <th id=\"T_5270c_level0_col4\" class=\"col_heading level0 col4\" >Prec.</th>\n",
       "      <th id=\"T_5270c_level0_col5\" class=\"col_heading level0 col5\" >F1</th>\n",
       "      <th id=\"T_5270c_level0_col6\" class=\"col_heading level0 col6\" >Kappa</th>\n",
       "      <th id=\"T_5270c_level0_col7\" class=\"col_heading level0 col7\" >MCC</th>\n",
       "      <th id=\"T_5270c_level0_col8\" class=\"col_heading level0 col8\" >TT (Sec)</th>\n",
       "    </tr>\n",
       "  </thead>\n",
       "  <tbody>\n",
       "    <tr>\n",
       "      <th id=\"T_5270c_level0_row0\" class=\"row_heading level0 row0\" >lr</th>\n",
       "      <td id=\"T_5270c_row0_col0\" class=\"data row0 col0\" >Logistic Regression</td>\n",
       "      <td id=\"T_5270c_row0_col1\" class=\"data row0 col1\" >0.5494</td>\n",
       "      <td id=\"T_5270c_row0_col2\" class=\"data row0 col2\" >0.5596</td>\n",
       "      <td id=\"T_5270c_row0_col3\" class=\"data row0 col3\" >0.5311</td>\n",
       "      <td id=\"T_5270c_row0_col4\" class=\"data row0 col4\" >0.5573</td>\n",
       "      <td id=\"T_5270c_row0_col5\" class=\"data row0 col5\" >0.5426</td>\n",
       "      <td id=\"T_5270c_row0_col6\" class=\"data row0 col6\" >0.0990</td>\n",
       "      <td id=\"T_5270c_row0_col7\" class=\"data row0 col7\" >0.0995</td>\n",
       "      <td id=\"T_5270c_row0_col8\" class=\"data row0 col8\" >0.0290</td>\n",
       "    </tr>\n",
       "    <tr>\n",
       "      <th id=\"T_5270c_level0_row1\" class=\"row_heading level0 row1\" >ridge</th>\n",
       "      <td id=\"T_5270c_row1_col0\" class=\"data row1 col0\" >Ridge Classifier</td>\n",
       "      <td id=\"T_5270c_row1_col1\" class=\"data row1 col1\" >0.5440</td>\n",
       "      <td id=\"T_5270c_row1_col2\" class=\"data row1 col2\" >0.5588</td>\n",
       "      <td id=\"T_5270c_row1_col3\" class=\"data row1 col3\" >0.5476</td>\n",
       "      <td id=\"T_5270c_row1_col4\" class=\"data row1 col4\" >0.5501</td>\n",
       "      <td id=\"T_5270c_row1_col5\" class=\"data row1 col5\" >0.5477</td>\n",
       "      <td id=\"T_5270c_row1_col6\" class=\"data row1 col6\" >0.0878</td>\n",
       "      <td id=\"T_5270c_row1_col7\" class=\"data row1 col7\" >0.0882</td>\n",
       "      <td id=\"T_5270c_row1_col8\" class=\"data row1 col8\" >0.0070</td>\n",
       "    </tr>\n",
       "    <tr>\n",
       "      <th id=\"T_5270c_level0_row2\" class=\"row_heading level0 row2\" >lda</th>\n",
       "      <td id=\"T_5270c_row2_col0\" class=\"data row2 col0\" >Linear Discriminant Analysis</td>\n",
       "      <td id=\"T_5270c_row2_col1\" class=\"data row2 col1\" >0.5440</td>\n",
       "      <td id=\"T_5270c_row2_col2\" class=\"data row2 col2\" >0.5587</td>\n",
       "      <td id=\"T_5270c_row2_col3\" class=\"data row2 col3\" >0.5476</td>\n",
       "      <td id=\"T_5270c_row2_col4\" class=\"data row2 col4\" >0.5501</td>\n",
       "      <td id=\"T_5270c_row2_col5\" class=\"data row2 col5\" >0.5477</td>\n",
       "      <td id=\"T_5270c_row2_col6\" class=\"data row2 col6\" >0.0878</td>\n",
       "      <td id=\"T_5270c_row2_col7\" class=\"data row2 col7\" >0.0882</td>\n",
       "      <td id=\"T_5270c_row2_col8\" class=\"data row2 col8\" >0.0080</td>\n",
       "    </tr>\n",
       "    <tr>\n",
       "      <th id=\"T_5270c_level0_row3\" class=\"row_heading level0 row3\" >ada</th>\n",
       "      <td id=\"T_5270c_row3_col0\" class=\"data row3 col0\" >Ada Boost Classifier</td>\n",
       "      <td id=\"T_5270c_row3_col1\" class=\"data row3 col1\" >0.5327</td>\n",
       "      <td id=\"T_5270c_row3_col2\" class=\"data row3 col2\" >0.5456</td>\n",
       "      <td id=\"T_5270c_row3_col3\" class=\"data row3 col3\" >0.5205</td>\n",
       "      <td id=\"T_5270c_row3_col4\" class=\"data row3 col4\" >0.5388</td>\n",
       "      <td id=\"T_5270c_row3_col5\" class=\"data row3 col5\" >0.5281</td>\n",
       "      <td id=\"T_5270c_row3_col6\" class=\"data row3 col6\" >0.0656</td>\n",
       "      <td id=\"T_5270c_row3_col7\" class=\"data row3 col7\" >0.0659</td>\n",
       "      <td id=\"T_5270c_row3_col8\" class=\"data row3 col8\" >0.0210</td>\n",
       "    </tr>\n",
       "    <tr>\n",
       "      <th id=\"T_5270c_level0_row4\" class=\"row_heading level0 row4\" >gbc</th>\n",
       "      <td id=\"T_5270c_row4_col0\" class=\"data row4 col0\" >Gradient Boosting Classifier</td>\n",
       "      <td id=\"T_5270c_row4_col1\" class=\"data row4 col1\" >0.5095</td>\n",
       "      <td id=\"T_5270c_row4_col2\" class=\"data row4 col2\" >0.5134</td>\n",
       "      <td id=\"T_5270c_row4_col3\" class=\"data row4 col3\" >0.4994</td>\n",
       "      <td id=\"T_5270c_row4_col4\" class=\"data row4 col4\" >0.5148</td>\n",
       "      <td id=\"T_5270c_row4_col5\" class=\"data row4 col5\" >0.5061</td>\n",
       "      <td id=\"T_5270c_row4_col6\" class=\"data row4 col6\" >0.0192</td>\n",
       "      <td id=\"T_5270c_row4_col7\" class=\"data row4 col7\" >0.0192</td>\n",
       "      <td id=\"T_5270c_row4_col8\" class=\"data row4 col8\" >0.0500</td>\n",
       "    </tr>\n",
       "    <tr>\n",
       "      <th id=\"T_5270c_level0_row5\" class=\"row_heading level0 row5\" >lightgbm</th>\n",
       "      <td id=\"T_5270c_row5_col0\" class=\"data row5 col0\" >Light Gradient Boosting Machine</td>\n",
       "      <td id=\"T_5270c_row5_col1\" class=\"data row5 col1\" >0.5060</td>\n",
       "      <td id=\"T_5270c_row5_col2\" class=\"data row5 col2\" >0.5094</td>\n",
       "      <td id=\"T_5270c_row5_col3\" class=\"data row5 col3\" >0.5088</td>\n",
       "      <td id=\"T_5270c_row5_col4\" class=\"data row5 col4\" >0.5112</td>\n",
       "      <td id=\"T_5270c_row5_col5\" class=\"data row5 col5\" >0.5093</td>\n",
       "      <td id=\"T_5270c_row5_col6\" class=\"data row5 col6\" >0.0118</td>\n",
       "      <td id=\"T_5270c_row5_col7\" class=\"data row5 col7\" >0.0118</td>\n",
       "      <td id=\"T_5270c_row5_col8\" class=\"data row5 col8\" >0.0690</td>\n",
       "    </tr>\n",
       "    <tr>\n",
       "      <th id=\"T_5270c_level0_row6\" class=\"row_heading level0 row6\" >dt</th>\n",
       "      <td id=\"T_5270c_row6_col0\" class=\"data row6 col0\" >Decision Tree Classifier</td>\n",
       "      <td id=\"T_5270c_row6_col1\" class=\"data row6 col1\" >0.5048</td>\n",
       "      <td id=\"T_5270c_row6_col2\" class=\"data row6 col2\" >0.5046</td>\n",
       "      <td id=\"T_5270c_row6_col3\" class=\"data row6 col3\" >0.5254</td>\n",
       "      <td id=\"T_5270c_row6_col4\" class=\"data row6 col4\" >0.5096</td>\n",
       "      <td id=\"T_5270c_row6_col5\" class=\"data row6 col5\" >0.5165</td>\n",
       "      <td id=\"T_5270c_row6_col6\" class=\"data row6 col6\" >0.0091</td>\n",
       "      <td id=\"T_5270c_row6_col7\" class=\"data row6 col7\" >0.0090</td>\n",
       "      <td id=\"T_5270c_row6_col8\" class=\"data row6 col8\" >0.0090</td>\n",
       "    </tr>\n",
       "    <tr>\n",
       "      <th id=\"T_5270c_level0_row7\" class=\"row_heading level0 row7\" >nb</th>\n",
       "      <td id=\"T_5270c_row7_col0\" class=\"data row7 col0\" >Naive Bayes</td>\n",
       "      <td id=\"T_5270c_row7_col1\" class=\"data row7 col1\" >0.5042</td>\n",
       "      <td id=\"T_5270c_row7_col2\" class=\"data row7 col2\" >0.5311</td>\n",
       "      <td id=\"T_5270c_row7_col3\" class=\"data row7 col3\" >0.9058</td>\n",
       "      <td id=\"T_5270c_row7_col4\" class=\"data row7 col4\" >0.5054</td>\n",
       "      <td id=\"T_5270c_row7_col5\" class=\"data row7 col5\" >0.6485</td>\n",
       "      <td id=\"T_5270c_row7_col6\" class=\"data row7 col6\" >-0.0004</td>\n",
       "      <td id=\"T_5270c_row7_col7\" class=\"data row7 col7\" >-0.0003</td>\n",
       "      <td id=\"T_5270c_row7_col8\" class=\"data row7 col8\" >0.0080</td>\n",
       "    </tr>\n",
       "    <tr>\n",
       "      <th id=\"T_5270c_level0_row8\" class=\"row_heading level0 row8\" >svm</th>\n",
       "      <td id=\"T_5270c_row8_col0\" class=\"data row8 col0\" >SVM - Linear Kernel</td>\n",
       "      <td id=\"T_5270c_row8_col1\" class=\"data row8 col1\" >0.5030</td>\n",
       "      <td id=\"T_5270c_row8_col2\" class=\"data row8 col2\" >0.5359</td>\n",
       "      <td id=\"T_5270c_row8_col3\" class=\"data row8 col3\" >0.4577</td>\n",
       "      <td id=\"T_5270c_row8_col4\" class=\"data row8 col4\" >0.5282</td>\n",
       "      <td id=\"T_5270c_row8_col5\" class=\"data row8 col5\" >0.3483</td>\n",
       "      <td id=\"T_5270c_row8_col6\" class=\"data row8 col6\" >0.0060</td>\n",
       "      <td id=\"T_5270c_row8_col7\" class=\"data row8 col7\" >0.0076</td>\n",
       "      <td id=\"T_5270c_row8_col8\" class=\"data row8 col8\" >0.0070</td>\n",
       "    </tr>\n",
       "    <tr>\n",
       "      <th id=\"T_5270c_level0_row9\" class=\"row_heading level0 row9\" >qda</th>\n",
       "      <td id=\"T_5270c_row9_col0\" class=\"data row9 col0\" >Quadratic Discriminant Analysis</td>\n",
       "      <td id=\"T_5270c_row9_col1\" class=\"data row9 col1\" >0.4982</td>\n",
       "      <td id=\"T_5270c_row9_col2\" class=\"data row9 col2\" >0.5230</td>\n",
       "      <td id=\"T_5270c_row9_col3\" class=\"data row9 col3\" >0.9176</td>\n",
       "      <td id=\"T_5270c_row9_col4\" class=\"data row9 col4\" >0.5020</td>\n",
       "      <td id=\"T_5270c_row9_col5\" class=\"data row9 col5\" >0.6485</td>\n",
       "      <td id=\"T_5270c_row9_col6\" class=\"data row9 col6\" >-0.0127</td>\n",
       "      <td id=\"T_5270c_row9_col7\" class=\"data row9 col7\" >-0.0238</td>\n",
       "      <td id=\"T_5270c_row9_col8\" class=\"data row9 col8\" >0.0070</td>\n",
       "    </tr>\n",
       "    <tr>\n",
       "      <th id=\"T_5270c_level0_row10\" class=\"row_heading level0 row10\" >rf</th>\n",
       "      <td id=\"T_5270c_row10_col0\" class=\"data row10 col0\" >Random Forest Classifier</td>\n",
       "      <td id=\"T_5270c_row10_col1\" class=\"data row10 col1\" >0.4976</td>\n",
       "      <td id=\"T_5270c_row10_col2\" class=\"data row10 col2\" >0.5089</td>\n",
       "      <td id=\"T_5270c_row10_col3\" class=\"data row10 col3\" >0.4734</td>\n",
       "      <td id=\"T_5270c_row10_col4\" class=\"data row10 col4\" >0.5040</td>\n",
       "      <td id=\"T_5270c_row10_col5\" class=\"data row10 col5\" >0.4873</td>\n",
       "      <td id=\"T_5270c_row10_col6\" class=\"data row10 col6\" >-0.0044</td>\n",
       "      <td id=\"T_5270c_row10_col7\" class=\"data row10 col7\" >-0.0044</td>\n",
       "      <td id=\"T_5270c_row10_col8\" class=\"data row10 col8\" >0.0500</td>\n",
       "    </tr>\n",
       "    <tr>\n",
       "      <th id=\"T_5270c_level0_row11\" class=\"row_heading level0 row11\" >dummy</th>\n",
       "      <td id=\"T_5270c_row11_col0\" class=\"data row11 col0\" >Dummy Classifier</td>\n",
       "      <td id=\"T_5270c_row11_col1\" class=\"data row11 col1\" >0.4946</td>\n",
       "      <td id=\"T_5270c_row11_col2\" class=\"data row11 col2\" >0.5000</td>\n",
       "      <td id=\"T_5270c_row11_col3\" class=\"data row11 col3\" >0.0000</td>\n",
       "      <td id=\"T_5270c_row11_col4\" class=\"data row11 col4\" >0.0000</td>\n",
       "      <td id=\"T_5270c_row11_col5\" class=\"data row11 col5\" >0.0000</td>\n",
       "      <td id=\"T_5270c_row11_col6\" class=\"data row11 col6\" >0.0000</td>\n",
       "      <td id=\"T_5270c_row11_col7\" class=\"data row11 col7\" >0.0000</td>\n",
       "      <td id=\"T_5270c_row11_col8\" class=\"data row11 col8\" >0.0080</td>\n",
       "    </tr>\n",
       "    <tr>\n",
       "      <th id=\"T_5270c_level0_row12\" class=\"row_heading level0 row12\" >et</th>\n",
       "      <td id=\"T_5270c_row12_col0\" class=\"data row12 col0\" >Extra Trees Classifier</td>\n",
       "      <td id=\"T_5270c_row12_col1\" class=\"data row12 col1\" >0.4940</td>\n",
       "      <td id=\"T_5270c_row12_col2\" class=\"data row12 col2\" >0.4945</td>\n",
       "      <td id=\"T_5270c_row12_col3\" class=\"data row12 col3\" >0.4935</td>\n",
       "      <td id=\"T_5270c_row12_col4\" class=\"data row12 col4\" >0.5001</td>\n",
       "      <td id=\"T_5270c_row12_col5\" class=\"data row12 col5\" >0.4962</td>\n",
       "      <td id=\"T_5270c_row12_col6\" class=\"data row12 col6\" >-0.0119</td>\n",
       "      <td id=\"T_5270c_row12_col7\" class=\"data row12 col7\" >-0.0119</td>\n",
       "      <td id=\"T_5270c_row12_col8\" class=\"data row12 col8\" >0.0500</td>\n",
       "    </tr>\n",
       "    <tr>\n",
       "      <th id=\"T_5270c_level0_row13\" class=\"row_heading level0 row13\" >knn</th>\n",
       "      <td id=\"T_5270c_row13_col0\" class=\"data row13 col0\" >K Neighbors Classifier</td>\n",
       "      <td id=\"T_5270c_row13_col1\" class=\"data row13 col1\" >0.4685</td>\n",
       "      <td id=\"T_5270c_row13_col2\" class=\"data row13 col2\" >0.4828</td>\n",
       "      <td id=\"T_5270c_row13_col3\" class=\"data row13 col3\" >0.4393</td>\n",
       "      <td id=\"T_5270c_row13_col4\" class=\"data row13 col4\" >0.4719</td>\n",
       "      <td id=\"T_5270c_row13_col5\" class=\"data row13 col5\" >0.4547</td>\n",
       "      <td id=\"T_5270c_row13_col6\" class=\"data row13 col6\" >-0.0625</td>\n",
       "      <td id=\"T_5270c_row13_col7\" class=\"data row13 col7\" >-0.0627</td>\n",
       "      <td id=\"T_5270c_row13_col8\" class=\"data row13 col8\" >0.0140</td>\n",
       "    </tr>\n",
       "  </tbody>\n",
       "</table>\n"
      ],
      "text/plain": [
       "<pandas.io.formats.style.Styler at 0x2124b706310>"
      ]
     },
     "metadata": {},
     "output_type": "display_data"
    },
    {
     "data": {
      "application/vnd.jupyter.widget-view+json": {
       "model_id": "",
       "version_major": 2,
       "version_minor": 0
      },
      "text/plain": [
       "Processing:   0%|          | 0/61 [00:00<?, ?it/s]"
      ]
     },
     "metadata": {},
     "output_type": "display_data"
    }
   ],
   "source": [
    "from pycaret.classification import setup, compare_models\n",
    "\n",
    "# Initialize and setup the experiment\n",
    "exp = setup(data=new_train, target='target_No Donor', session_id=27, fix_imbalance=True)\n",
    "\n",
    "# Compare models to find the best one\n",
    "best = compare_models()"
   ]
  },
  {
   "cell_type": "markdown",
   "id": "0429e755",
   "metadata": {},
   "source": [
    "# DEV ACCURACTY"
   ]
  },
  {
   "cell_type": "code",
   "execution_count": 41,
   "id": "6a247644",
   "metadata": {
    "scrolled": true
   },
   "outputs": [
    {
     "data": {
      "text/html": [],
      "text/plain": [
       "<IPython.core.display.HTML object>"
      ]
     },
     "metadata": {},
     "output_type": "display_data"
    }
   ],
   "source": [
    "preds = predict_model(best, data=new_dev.drop(columns='target_No Donor'))\n",
    "preds = preds['prediction_label']\n",
    "actual = new_dev['target_No Donor']\n",
    "accuracy_score(preds, actual)"
   ]
  },
  {
   "cell_type": "code",
   "execution_count": 45,
   "id": "71d6fd37",
   "metadata": {},
   "outputs": [
    {
     "data": {
      "text/plain": [
       "0.5366666666666666"
      ]
     },
     "execution_count": 45,
     "metadata": {},
     "output_type": "execute_result"
    }
   ],
   "source": []
  },
  {
   "cell_type": "markdown",
   "id": "da1b881b",
   "metadata": {},
   "source": [
    "# FINE TUNING"
   ]
  },
  {
   "cell_type": "code",
   "execution_count": 50,
   "id": "e96d7811",
   "metadata": {},
   "outputs": [
    {
     "data": {
      "text/html": [],
      "text/plain": [
       "<IPython.core.display.HTML object>"
      ]
     },
     "metadata": {},
     "output_type": "display_data"
    },
    {
     "data": {
      "text/html": [
       "<style type=\"text/css\">\n",
       "#T_91463_row10_col0, #T_91463_row10_col1, #T_91463_row10_col2, #T_91463_row10_col3, #T_91463_row10_col4, #T_91463_row10_col5, #T_91463_row10_col6 {\n",
       "  background: yellow;\n",
       "}\n",
       "</style>\n",
       "<table id=\"T_91463\">\n",
       "  <thead>\n",
       "    <tr>\n",
       "      <th class=\"blank level0\" >&nbsp;</th>\n",
       "      <th id=\"T_91463_level0_col0\" class=\"col_heading level0 col0\" >Accuracy</th>\n",
       "      <th id=\"T_91463_level0_col1\" class=\"col_heading level0 col1\" >AUC</th>\n",
       "      <th id=\"T_91463_level0_col2\" class=\"col_heading level0 col2\" >Recall</th>\n",
       "      <th id=\"T_91463_level0_col3\" class=\"col_heading level0 col3\" >Prec.</th>\n",
       "      <th id=\"T_91463_level0_col4\" class=\"col_heading level0 col4\" >F1</th>\n",
       "      <th id=\"T_91463_level0_col5\" class=\"col_heading level0 col5\" >Kappa</th>\n",
       "      <th id=\"T_91463_level0_col6\" class=\"col_heading level0 col6\" >MCC</th>\n",
       "    </tr>\n",
       "    <tr>\n",
       "      <th class=\"index_name level0\" >Fold</th>\n",
       "      <th class=\"blank col0\" >&nbsp;</th>\n",
       "      <th class=\"blank col1\" >&nbsp;</th>\n",
       "      <th class=\"blank col2\" >&nbsp;</th>\n",
       "      <th class=\"blank col3\" >&nbsp;</th>\n",
       "      <th class=\"blank col4\" >&nbsp;</th>\n",
       "      <th class=\"blank col5\" >&nbsp;</th>\n",
       "      <th class=\"blank col6\" >&nbsp;</th>\n",
       "    </tr>\n",
       "  </thead>\n",
       "  <tbody>\n",
       "    <tr>\n",
       "      <th id=\"T_91463_level0_row0\" class=\"row_heading level0 row0\" >0</th>\n",
       "      <td id=\"T_91463_row0_col0\" class=\"data row0 col0\" >0.5714</td>\n",
       "      <td id=\"T_91463_row0_col1\" class=\"data row0 col1\" >0.5700</td>\n",
       "      <td id=\"T_91463_row0_col2\" class=\"data row0 col2\" >0.4941</td>\n",
       "      <td id=\"T_91463_row0_col3\" class=\"data row0 col3\" >0.5915</td>\n",
       "      <td id=\"T_91463_row0_col4\" class=\"data row0 col4\" >0.5385</td>\n",
       "      <td id=\"T_91463_row0_col5\" class=\"data row0 col5\" >0.1444</td>\n",
       "      <td id=\"T_91463_row0_col6\" class=\"data row0 col6\" >0.1465</td>\n",
       "    </tr>\n",
       "    <tr>\n",
       "      <th id=\"T_91463_level0_row1\" class=\"row_heading level0 row1\" >1</th>\n",
       "      <td id=\"T_91463_row1_col0\" class=\"data row1 col0\" >0.5655</td>\n",
       "      <td id=\"T_91463_row1_col1\" class=\"data row1 col1\" >0.5449</td>\n",
       "      <td id=\"T_91463_row1_col2\" class=\"data row1 col2\" >0.5765</td>\n",
       "      <td id=\"T_91463_row1_col3\" class=\"data row1 col3\" >0.5698</td>\n",
       "      <td id=\"T_91463_row1_col4\" class=\"data row1 col4\" >0.5731</td>\n",
       "      <td id=\"T_91463_row1_col5\" class=\"data row1 col5\" >0.1307</td>\n",
       "      <td id=\"T_91463_row1_col6\" class=\"data row1 col6\" >0.1307</td>\n",
       "    </tr>\n",
       "    <tr>\n",
       "      <th id=\"T_91463_level0_row2\" class=\"row_heading level0 row2\" >2</th>\n",
       "      <td id=\"T_91463_row2_col0\" class=\"data row2 col0\" >0.5774</td>\n",
       "      <td id=\"T_91463_row2_col1\" class=\"data row2 col1\" >0.5929</td>\n",
       "      <td id=\"T_91463_row2_col2\" class=\"data row2 col2\" >0.6353</td>\n",
       "      <td id=\"T_91463_row2_col3\" class=\"data row2 col3\" >0.5745</td>\n",
       "      <td id=\"T_91463_row2_col4\" class=\"data row2 col4\" >0.6034</td>\n",
       "      <td id=\"T_91463_row2_col5\" class=\"data row2 col5\" >0.1536</td>\n",
       "      <td id=\"T_91463_row2_col6\" class=\"data row2 col6\" >0.1545</td>\n",
       "    </tr>\n",
       "    <tr>\n",
       "      <th id=\"T_91463_level0_row3\" class=\"row_heading level0 row3\" >3</th>\n",
       "      <td id=\"T_91463_row3_col0\" class=\"data row3 col0\" >0.5357</td>\n",
       "      <td id=\"T_91463_row3_col1\" class=\"data row3 col1\" >0.5600</td>\n",
       "      <td id=\"T_91463_row3_col2\" class=\"data row3 col2\" >0.5059</td>\n",
       "      <td id=\"T_91463_row3_col3\" class=\"data row3 col3\" >0.5443</td>\n",
       "      <td id=\"T_91463_row3_col4\" class=\"data row3 col4\" >0.5244</td>\n",
       "      <td id=\"T_91463_row3_col5\" class=\"data row3 col5\" >0.0721</td>\n",
       "      <td id=\"T_91463_row3_col6\" class=\"data row3 col6\" >0.0723</td>\n",
       "    </tr>\n",
       "    <tr>\n",
       "      <th id=\"T_91463_level0_row4\" class=\"row_heading level0 row4\" >4</th>\n",
       "      <td id=\"T_91463_row4_col0\" class=\"data row4 col0\" >0.6131</td>\n",
       "      <td id=\"T_91463_row4_col1\" class=\"data row4 col1\" >0.6249</td>\n",
       "      <td id=\"T_91463_row4_col2\" class=\"data row4 col2\" >0.5647</td>\n",
       "      <td id=\"T_91463_row4_col3\" class=\"data row4 col3\" >0.6316</td>\n",
       "      <td id=\"T_91463_row4_col4\" class=\"data row4 col4\" >0.5963</td>\n",
       "      <td id=\"T_91463_row4_col5\" class=\"data row4 col5\" >0.2271</td>\n",
       "      <td id=\"T_91463_row4_col6\" class=\"data row4 col6\" >0.2284</td>\n",
       "    </tr>\n",
       "    <tr>\n",
       "      <th id=\"T_91463_level0_row5\" class=\"row_heading level0 row5\" >5</th>\n",
       "      <td id=\"T_91463_row5_col0\" class=\"data row5 col0\" >0.5476</td>\n",
       "      <td id=\"T_91463_row5_col1\" class=\"data row5 col1\" >0.5402</td>\n",
       "      <td id=\"T_91463_row5_col2\" class=\"data row5 col2\" >0.5176</td>\n",
       "      <td id=\"T_91463_row5_col3\" class=\"data row5 col3\" >0.5570</td>\n",
       "      <td id=\"T_91463_row5_col4\" class=\"data row5 col4\" >0.5366</td>\n",
       "      <td id=\"T_91463_row5_col5\" class=\"data row5 col5\" >0.0959</td>\n",
       "      <td id=\"T_91463_row5_col6\" class=\"data row5 col6\" >0.0961</td>\n",
       "    </tr>\n",
       "    <tr>\n",
       "      <th id=\"T_91463_level0_row6\" class=\"row_heading level0 row6\" >6</th>\n",
       "      <td id=\"T_91463_row6_col0\" class=\"data row6 col0\" >0.5833</td>\n",
       "      <td id=\"T_91463_row6_col1\" class=\"data row6 col1\" >0.5926</td>\n",
       "      <td id=\"T_91463_row6_col2\" class=\"data row6 col2\" >0.6235</td>\n",
       "      <td id=\"T_91463_row6_col3\" class=\"data row6 col3\" >0.5824</td>\n",
       "      <td id=\"T_91463_row6_col4\" class=\"data row6 col4\" >0.6023</td>\n",
       "      <td id=\"T_91463_row6_col5\" class=\"data row6 col5\" >0.1658</td>\n",
       "      <td id=\"T_91463_row6_col6\" class=\"data row6 col6\" >0.1663</td>\n",
       "    </tr>\n",
       "    <tr>\n",
       "      <th id=\"T_91463_level0_row7\" class=\"row_heading level0 row7\" >7</th>\n",
       "      <td id=\"T_91463_row7_col0\" class=\"data row7 col0\" >0.5476</td>\n",
       "      <td id=\"T_91463_row7_col1\" class=\"data row7 col1\" >0.5673</td>\n",
       "      <td id=\"T_91463_row7_col2\" class=\"data row7 col2\" >0.5412</td>\n",
       "      <td id=\"T_91463_row7_col3\" class=\"data row7 col3\" >0.5542</td>\n",
       "      <td id=\"T_91463_row7_col4\" class=\"data row7 col4\" >0.5476</td>\n",
       "      <td id=\"T_91463_row7_col5\" class=\"data row7 col5\" >0.0954</td>\n",
       "      <td id=\"T_91463_row7_col6\" class=\"data row7 col6\" >0.0954</td>\n",
       "    </tr>\n",
       "    <tr>\n",
       "      <th id=\"T_91463_level0_row8\" class=\"row_heading level0 row8\" >8</th>\n",
       "      <td id=\"T_91463_row8_col0\" class=\"data row8 col0\" >0.4821</td>\n",
       "      <td id=\"T_91463_row8_col1\" class=\"data row8 col1\" >0.5016</td>\n",
       "      <td id=\"T_91463_row8_col2\" class=\"data row8 col2\" >0.5059</td>\n",
       "      <td id=\"T_91463_row8_col3\" class=\"data row8 col3\" >0.4886</td>\n",
       "      <td id=\"T_91463_row8_col4\" class=\"data row8 col4\" >0.4971</td>\n",
       "      <td id=\"T_91463_row8_col5\" class=\"data row8 col5\" >-0.0363</td>\n",
       "      <td id=\"T_91463_row8_col6\" class=\"data row8 col6\" >-0.0363</td>\n",
       "    </tr>\n",
       "    <tr>\n",
       "      <th id=\"T_91463_level0_row9\" class=\"row_heading level0 row9\" >9</th>\n",
       "      <td id=\"T_91463_row9_col0\" class=\"data row9 col0\" >0.5119</td>\n",
       "      <td id=\"T_91463_row9_col1\" class=\"data row9 col1\" >0.5031</td>\n",
       "      <td id=\"T_91463_row9_col2\" class=\"data row9 col2\" >0.4167</td>\n",
       "      <td id=\"T_91463_row9_col3\" class=\"data row9 col3\" >0.5147</td>\n",
       "      <td id=\"T_91463_row9_col4\" class=\"data row9 col4\" >0.4605</td>\n",
       "      <td id=\"T_91463_row9_col5\" class=\"data row9 col5\" >0.0238</td>\n",
       "      <td id=\"T_91463_row9_col6\" class=\"data row9 col6\" >0.0243</td>\n",
       "    </tr>\n",
       "    <tr>\n",
       "      <th id=\"T_91463_level0_row10\" class=\"row_heading level0 row10\" >Mean</th>\n",
       "      <td id=\"T_91463_row10_col0\" class=\"data row10 col0\" >0.5536</td>\n",
       "      <td id=\"T_91463_row10_col1\" class=\"data row10 col1\" >0.5598</td>\n",
       "      <td id=\"T_91463_row10_col2\" class=\"data row10 col2\" >0.5381</td>\n",
       "      <td id=\"T_91463_row10_col3\" class=\"data row10 col3\" >0.5609</td>\n",
       "      <td id=\"T_91463_row10_col4\" class=\"data row10 col4\" >0.5480</td>\n",
       "      <td id=\"T_91463_row10_col5\" class=\"data row10 col5\" >0.1072</td>\n",
       "      <td id=\"T_91463_row10_col6\" class=\"data row10 col6\" >0.1078</td>\n",
       "    </tr>\n",
       "    <tr>\n",
       "      <th id=\"T_91463_level0_row11\" class=\"row_heading level0 row11\" >Std</th>\n",
       "      <td id=\"T_91463_row11_col0\" class=\"data row11 col0\" >0.0356</td>\n",
       "      <td id=\"T_91463_row11_col1\" class=\"data row11 col1\" >0.0371</td>\n",
       "      <td id=\"T_91463_row11_col2\" class=\"data row11 col2\" >0.0617</td>\n",
       "      <td id=\"T_91463_row11_col3\" class=\"data row11 col3\" >0.0379</td>\n",
       "      <td id=\"T_91463_row11_col4\" class=\"data row11 col4\" >0.0447</td>\n",
       "      <td id=\"T_91463_row11_col5\" class=\"data row11 col5\" >0.0714</td>\n",
       "      <td id=\"T_91463_row11_col6\" class=\"data row11 col6\" >0.0717</td>\n",
       "    </tr>\n",
       "  </tbody>\n",
       "</table>\n"
      ],
      "text/plain": [
       "<pandas.io.formats.style.Styler at 0x2124ca82250>"
      ]
     },
     "metadata": {},
     "output_type": "display_data"
    },
    {
     "data": {
      "application/vnd.jupyter.widget-view+json": {
       "model_id": "",
       "version_major": 2,
       "version_minor": 0
      },
      "text/plain": [
       "Processing:   0%|          | 0/7 [00:00<?, ?it/s]"
      ]
     },
     "metadata": {},
     "output_type": "display_data"
    },
    {
     "name": "stdout",
     "output_type": "stream",
     "text": [
      "Fitting 10 folds for each of 10 candidates, totalling 100 fits\n"
     ]
    }
   ],
   "source": [
    "tuned_best = tune_model(best, optimize='Accuracy')"
   ]
  },
  {
   "cell_type": "code",
   "execution_count": 51,
   "id": "f5b17f85",
   "metadata": {},
   "outputs": [
    {
     "data": {
      "text/html": [],
      "text/plain": [
       "<IPython.core.display.HTML object>"
      ]
     },
     "metadata": {},
     "output_type": "display_data"
    },
    {
     "data": {
      "text/plain": [
       "0.5316666666666666"
      ]
     },
     "execution_count": 51,
     "metadata": {},
     "output_type": "execute_result"
    }
   ],
   "source": [
    "preds = predict_model(tuned_best, data=new_dev.drop(columns='target_No Donor'))\n",
    "preds = preds['prediction_label']\n",
    "actual = new_dev['target_No Donor']\n",
    "accuracy_score(preds, actual)"
   ]
  }
 ],
 "metadata": {
  "hide_input": false,
  "kernelspec": {
   "display_name": "Python 3 (ipykernel)",
   "language": "python",
   "name": "python3"
  },
  "language_info": {
   "codemirror_mode": {
    "name": "ipython",
    "version": 3
   },
   "file_extension": ".py",
   "mimetype": "text/x-python",
   "name": "python",
   "nbconvert_exporter": "python",
   "pygments_lexer": "ipython3",
   "version": "3.9.12"
  }
 },
 "nbformat": 4,
 "nbformat_minor": 5
}
