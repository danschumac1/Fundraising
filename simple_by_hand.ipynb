{
 "cells": [
  {
   "cell_type": "code",
   "execution_count": 25,
   "id": "abb9eb1a",
   "metadata": {},
   "outputs": [],
   "source": [
    "import pandas as pd\n",
    "pd.set_option(\"max_colwidth\", None)\n",
    "\n",
    "import pycaret\n",
    "import numpy as np\n",
    "import matplotlib.pyplot as plt\n",
    "from pycaret.classification import * \n",
    "from sklearn.model_selection import train_test_split\n",
    "from sklearn.metrics import accuracy_score\n",
    "\n",
    "from functions.homebrew import *\n",
    "import numpy as np\n",
    "import pandas as pd\n",
    "\n",
    "from sklearn.linear_model import LogisticRegression\n",
    "from sklearn.discriminant_analysis import LinearDiscriminantAnalysis as LDA, QuadraticDiscriminantAnalysis as QDA\n",
    "from sklearn.naive_bayes import GaussianNB\n",
    "from sklearn.neighbors import KNeighborsClassifier\n",
    "from sklearn.preprocessing import StandardScaler\n",
    "from sklearn.model_selection import train_test_split, cross_val_score\n",
    "from sklearn.metrics import accuracy_score\n",
    "from tqdm import tqdm\n",
    "from itertools import combinations\n",
    "import pickle\n",
    "import os\n",
    "\n",
    "# If you're using statsmodels or ISLP for specific tasks, keep these imports\n",
    "import statsmodels.api as sm\n",
    "# Assuming ISLP and homebrew are custom modules specific to your project\n",
    "from ISLP import load_data, confusion_table\n",
    "from ISLP.models import ModelSpec as MS, summarize, contrast"
   ]
  },
  {
   "cell_type": "markdown",
   "id": "079c3618",
   "metadata": {},
   "source": [
    "# LOAD DATA"
   ]
  },
  {
   "cell_type": "code",
   "execution_count": 6,
   "id": "1562d311",
   "metadata": {},
   "outputs": [],
   "source": [
    "df = pd.read_csv('./data/df.csv').drop('Unnamed: 0', axis=1)"
   ]
  },
  {
   "cell_type": "code",
   "execution_count": 7,
   "id": "712949c2",
   "metadata": {},
   "outputs": [],
   "source": [
    "train = df[df['type'] == 'train'].drop('type',axis =1)\n",
    "dev = df[df['type'] == 'dev'].drop('type',axis =1)\n",
    "test = df[df['type'] == 'test'].drop('type',axis =1)"
   ]
  },
  {
   "cell_type": "markdown",
   "id": "a579fc95",
   "metadata": {},
   "source": [
    "# VIF"
   ]
  },
  {
   "cell_type": "code",
   "execution_count": 8,
   "id": "051b17d9",
   "metadata": {},
   "outputs": [
    {
     "name": "stdout",
     "output_type": "stream",
     "text": [
      "REMOVED: ['zipconvert5_Yes', 'avg_fam_inc', 'months_since_donate', 'med_fam_inc', 'avg_gift']\n"
     ]
    }
   ],
   "source": [
    "dummies = pd.get_dummies(train, drop_first=True)\n",
    "\n",
    "kept, removed = remove_high_vif_features(X=dummies.drop('target_No Donor', axis=1), y=dummies['target_No Donor'], vif_threshold=10)\n",
    "print('REMOVED:', removed)\n",
    "\n",
    "\n",
    "train = dummies.drop(columns=removed)\n",
    "dev = pd.get_dummies(dev, drop_first=True).drop(columns=removed)\n",
    "test = pd.get_dummies(test, drop_first=True).drop(columns=removed)"
   ]
  },
  {
   "cell_type": "markdown",
   "id": "c05b5e3d",
   "metadata": {},
   "source": [
    "# Logistic Regression"
   ]
  },
  {
   "cell_type": "code",
   "execution_count": 20,
   "id": "6030dd27",
   "metadata": {},
   "outputs": [
    {
     "name": "stdout",
     "output_type": "stream",
     "text": [
      "                 Generalized Linear Model Regression Results                  \n",
      "==============================================================================\n",
      "Dep. Variable:        target_No Donor   No. Observations:                 2400\n",
      "Model:                            GLM   Df Residuals:                     2385\n",
      "Model Family:                Binomial   Df Model:                           14\n",
      "Link Function:                  Logit   Scale:                          1.0000\n",
      "Method:                          IRLS   Log-Likelihood:                -1644.6\n",
      "Date:                Mon, 29 Apr 2024   Deviance:                       3289.2\n",
      "Time:                        19:13:36   Pearson chi2:                 2.42e+03\n",
      "No. Iterations:                     4   Pseudo R-squ. (CS):            0.01555\n",
      "Covariance Type:            nonrobust                                         \n",
      "===================================================================================\n",
      "                      coef    std err          z      P>|z|      [0.025      0.975]\n",
      "-----------------------------------------------------------------------------------\n",
      "num_child           0.2487      0.109      2.273      0.023       0.034       0.463\n",
      "income             -0.0381      0.028     -1.383      0.167      -0.092       0.016\n",
      "wealth             -0.0190      0.017     -1.140      0.254      -0.052       0.014\n",
      "home_value      -2.895e-05   5.42e-05     -0.534      0.593      -0.000    7.72e-05\n",
      "pct_lt15k           0.0003      0.003      0.100      0.920      -0.007       0.007\n",
      "num_prom           -0.0021      0.002     -0.865      0.387      -0.007       0.003\n",
      "lifetime_gifts     -0.0010      0.001     -1.652      0.098      -0.002       0.000\n",
      "largest_gift       -0.0004      0.003     -0.116      0.908      -0.007       0.006\n",
      "last_gift           0.0198      0.005      3.774      0.000       0.009       0.030\n",
      "time_lag            0.0048      0.008      0.641      0.522      -0.010       0.020\n",
      "zipconvert2_Yes     0.0770      0.117      0.659      0.510      -0.152       0.306\n",
      "zipconvert3_Yes     0.0936      0.126      0.742      0.458      -0.154       0.341\n",
      "zipconvert4_Yes     0.0203      0.118      0.172      0.864      -0.211       0.252\n",
      "homeowner_Yes      -0.0736      0.102     -0.719      0.472      -0.274       0.127\n",
      "female_Yes         -0.0249      0.084     -0.297      0.766      -0.189       0.139\n",
      "===================================================================================\n"
     ]
    }
   ],
   "source": [
    "# Selecting features and target variable for training data\n",
    "X_train = train.drop(['target_No Donor'], axis =1 )\n",
    "y_train = train['target_No Donor']\n",
    "X_test = dev.drop(['target_No Donor'], axis = 1)\n",
    "y_test = dev['target_No Donor']\n",
    "\n",
    "# Fitting logistic regression model\n",
    "glm = sm.GLM(y_train, X_train, family=sm.families.Binomial())\n",
    "results = glm.fit()\n",
    "\n",
    "# Summarizing results\n",
    "print(results.summary())"
   ]
  },
  {
   "cell_type": "markdown",
   "id": "09c5a352",
   "metadata": {},
   "source": [
    "### Dev Results"
   ]
  },
  {
   "cell_type": "code",
   "execution_count": 19,
   "id": "8a3fe3c3",
   "metadata": {},
   "outputs": [
    {
     "data": {
      "text/plain": [
       "0.53"
      ]
     },
     "execution_count": 19,
     "metadata": {},
     "output_type": "execute_result"
    }
   ],
   "source": [
    "preds = (results.predict(X_test) >= 0.5).astype(int)\n",
    "accuracy_score(preds, y_test)"
   ]
  },
  {
   "cell_type": "markdown",
   "id": "15de79b1",
   "metadata": {},
   "source": [
    "### Trying with SkLearn"
   ]
  },
  {
   "cell_type": "code",
   "execution_count": 23,
   "id": "8b51f275",
   "metadata": {},
   "outputs": [
    {
     "name": "stdout",
     "output_type": "stream",
     "text": [
      "Accuracy: 0.54\n"
     ]
    }
   ],
   "source": [
    "from sklearn.linear_model import LogisticRegression\n",
    "from sklearn.metrics import accuracy_score, confusion_matrix\n",
    "# Create a logistic regression model instance\n",
    "logreg = LogisticRegression(max_iter=1000)  # Increase max_iter if convergence issues occur\n",
    "\n",
    "# Fit the model on training data\n",
    "logreg.fit(X_train, y_train)\n",
    "# Predict on the test data\n",
    "y_pred = logreg.predict(X_test)\n",
    "\n",
    "# Calculate accuracy\n",
    "accuracy = accuracy_score(y_test, y_pred)\n",
    "print(\"Accuracy:\", accuracy)\n",
    "\n",
    "# Optionally, print the confusion matrix\n",
    "conf_matrix = confusion_matrix(y_test, y_pred)\n",
    "# print(\"Confusion Matrix:\\n\", conf_matrix)\n"
   ]
  },
  {
   "cell_type": "code",
   "execution_count": 15,
   "id": "68a8fce4",
   "metadata": {},
   "outputs": [
    {
     "data": {
      "text/html": [
       "<div>\n",
       "<style scoped>\n",
       "    .dataframe tbody tr th:only-of-type {\n",
       "        vertical-align: middle;\n",
       "    }\n",
       "\n",
       "    .dataframe tbody tr th {\n",
       "        vertical-align: top;\n",
       "    }\n",
       "\n",
       "    .dataframe thead th {\n",
       "        text-align: right;\n",
       "    }\n",
       "</style>\n",
       "<table border=\"1\" class=\"dataframe\">\n",
       "  <thead>\n",
       "    <tr style=\"text-align: right;\">\n",
       "      <th>Truth</th>\n",
       "      <th>0</th>\n",
       "      <th>1</th>\n",
       "    </tr>\n",
       "    <tr>\n",
       "      <th>Predicted</th>\n",
       "      <th></th>\n",
       "      <th></th>\n",
       "    </tr>\n",
       "  </thead>\n",
       "  <tbody>\n",
       "    <tr>\n",
       "      <th>0</th>\n",
       "      <td>9</td>\n",
       "      <td>5</td>\n",
       "    </tr>\n",
       "    <tr>\n",
       "      <th>1</th>\n",
       "      <td>34</td>\n",
       "      <td>56</td>\n",
       "    </tr>\n",
       "  </tbody>\n",
       "</table>\n",
       "</div>"
      ],
      "text/plain": [
       "Truth       0   1\n",
       "Predicted        \n",
       "0           9   5\n",
       "1          34  56"
      ]
     },
     "execution_count": 15,
     "metadata": {},
     "output_type": "execute_result"
    }
   ],
   "source": [
    "lda = LDA(store_covariance=True)\n",
    "lda.fit(X_train, y_train)\n",
    "\n",
    "lda_preds = lda.predict(X_test)\n",
    "confusion_table(lda_preds,y_test)"
   ]
  },
  {
   "cell_type": "code",
   "execution_count": 16,
   "id": "d780647d",
   "metadata": {},
   "outputs": [
    {
     "name": "stdout",
     "output_type": "stream",
     "text": [
      "accuracy_score: 0.625\n"
     ]
    }
   ],
   "source": [
    "print(f'accuracy_score: {accuracy_score(lda_preds,y_test):.3}')"
   ]
  },
  {
   "cell_type": "markdown",
   "id": "777fb037",
   "metadata": {},
   "source": [
    "### (f) Repeat (d) using QDA.\n"
   ]
  },
  {
   "cell_type": "code",
   "execution_count": 27,
   "id": "a61cd6d6",
   "metadata": {},
   "outputs": [
    {
     "data": {
      "text/html": [
       "<div>\n",
       "<style scoped>\n",
       "    .dataframe tbody tr th:only-of-type {\n",
       "        vertical-align: middle;\n",
       "    }\n",
       "\n",
       "    .dataframe tbody tr th {\n",
       "        vertical-align: top;\n",
       "    }\n",
       "\n",
       "    .dataframe thead th {\n",
       "        text-align: right;\n",
       "    }\n",
       "</style>\n",
       "<table border=\"1\" class=\"dataframe\">\n",
       "  <thead>\n",
       "    <tr style=\"text-align: right;\">\n",
       "      <th>Truth</th>\n",
       "      <th>0</th>\n",
       "      <th>1</th>\n",
       "    </tr>\n",
       "    <tr>\n",
       "      <th>Predicted</th>\n",
       "      <th></th>\n",
       "      <th></th>\n",
       "    </tr>\n",
       "  </thead>\n",
       "  <tbody>\n",
       "    <tr>\n",
       "      <th>0</th>\n",
       "      <td>26</td>\n",
       "      <td>20</td>\n",
       "    </tr>\n",
       "    <tr>\n",
       "      <th>1</th>\n",
       "      <td>286</td>\n",
       "      <td>268</td>\n",
       "    </tr>\n",
       "  </tbody>\n",
       "</table>\n",
       "</div>"
      ],
      "text/plain": [
       "Truth        0    1\n",
       "Predicted          \n",
       "0           26   20\n",
       "1          286  268"
      ]
     },
     "execution_count": 27,
     "metadata": {},
     "output_type": "execute_result"
    }
   ],
   "source": [
    "qda = QDA(store_covariance=True)\n",
    "qda.fit(X_train, y_train)\n",
    "\n",
    "qda_preds = qda.predict(X_test)\n",
    "confusion_table(qda_preds,y_test)"
   ]
  },
  {
   "cell_type": "code",
   "execution_count": 28,
   "id": "047a2f23",
   "metadata": {},
   "outputs": [
    {
     "name": "stdout",
     "output_type": "stream",
     "text": [
      "accuracy_score: 0.49\n"
     ]
    }
   ],
   "source": [
    "print(f'accuracy_score: {accuracy_score(qda_preds,y_test):.3}')"
   ]
  },
  {
   "cell_type": "markdown",
   "id": "af7c98b3",
   "metadata": {},
   "source": [
    "### (g) Repeat (d) using KNN with K = 1.\n"
   ]
  },
  {
   "cell_type": "code",
   "execution_count": 29,
   "id": "a91d4295",
   "metadata": {},
   "outputs": [
    {
     "data": {
      "text/html": [
       "<div>\n",
       "<style scoped>\n",
       "    .dataframe tbody tr th:only-of-type {\n",
       "        vertical-align: middle;\n",
       "    }\n",
       "\n",
       "    .dataframe tbody tr th {\n",
       "        vertical-align: top;\n",
       "    }\n",
       "\n",
       "    .dataframe thead th {\n",
       "        text-align: right;\n",
       "    }\n",
       "</style>\n",
       "<table border=\"1\" class=\"dataframe\">\n",
       "  <thead>\n",
       "    <tr style=\"text-align: right;\">\n",
       "      <th>Truth</th>\n",
       "      <th>0</th>\n",
       "      <th>1</th>\n",
       "    </tr>\n",
       "    <tr>\n",
       "      <th>Predicted</th>\n",
       "      <th></th>\n",
       "      <th></th>\n",
       "    </tr>\n",
       "  </thead>\n",
       "  <tbody>\n",
       "    <tr>\n",
       "      <th>0</th>\n",
       "      <td>148</td>\n",
       "      <td>135</td>\n",
       "    </tr>\n",
       "    <tr>\n",
       "      <th>1</th>\n",
       "      <td>164</td>\n",
       "      <td>153</td>\n",
       "    </tr>\n",
       "  </tbody>\n",
       "</table>\n",
       "</div>"
      ],
      "text/plain": [
       "Truth        0    1\n",
       "Predicted          \n",
       "0          148  135\n",
       "1          164  153"
      ]
     },
     "execution_count": 29,
     "metadata": {},
     "output_type": "execute_result"
    }
   ],
   "source": [
    "knn1 = KNeighborsClassifier(n_neighbors=1)\n",
    "knn1.fit(X_train, y_train)\n",
    "knn1_pred = knn1.predict(X_test)\n",
    "confusion_table(knn1_pred, y_test)"
   ]
  },
  {
   "cell_type": "code",
   "execution_count": 30,
   "id": "5a5b2443",
   "metadata": {},
   "outputs": [
    {
     "name": "stdout",
     "output_type": "stream",
     "text": [
      "accuracy_score: 0.502\n"
     ]
    }
   ],
   "source": [
    "print(f'accuracy_score: {accuracy_score(knn1_pred,y_test):.3}')"
   ]
  },
  {
   "cell_type": "markdown",
   "id": "f534c6c1",
   "metadata": {},
   "source": [
    "### (h) Repeat (d) using naive Bayes.\n"
   ]
  },
  {
   "cell_type": "code",
   "execution_count": 31,
   "id": "944cfc82",
   "metadata": {},
   "outputs": [
    {
     "data": {
      "text/html": [
       "<div>\n",
       "<style scoped>\n",
       "    .dataframe tbody tr th:only-of-type {\n",
       "        vertical-align: middle;\n",
       "    }\n",
       "\n",
       "    .dataframe tbody tr th {\n",
       "        vertical-align: top;\n",
       "    }\n",
       "\n",
       "    .dataframe thead th {\n",
       "        text-align: right;\n",
       "    }\n",
       "</style>\n",
       "<table border=\"1\" class=\"dataframe\">\n",
       "  <thead>\n",
       "    <tr style=\"text-align: right;\">\n",
       "      <th>Truth</th>\n",
       "      <th>0</th>\n",
       "      <th>1</th>\n",
       "    </tr>\n",
       "    <tr>\n",
       "      <th>Predicted</th>\n",
       "      <th></th>\n",
       "      <th></th>\n",
       "    </tr>\n",
       "  </thead>\n",
       "  <tbody>\n",
       "    <tr>\n",
       "      <th>0</th>\n",
       "      <td>38</td>\n",
       "      <td>25</td>\n",
       "    </tr>\n",
       "    <tr>\n",
       "      <th>1</th>\n",
       "      <td>274</td>\n",
       "      <td>263</td>\n",
       "    </tr>\n",
       "  </tbody>\n",
       "</table>\n",
       "</div>"
      ],
      "text/plain": [
       "Truth        0    1\n",
       "Predicted          \n",
       "0           38   25\n",
       "1          274  263"
      ]
     },
     "execution_count": 31,
     "metadata": {},
     "output_type": "execute_result"
    }
   ],
   "source": [
    "NB = GaussianNB()\n",
    "NB.fit(X_train, y_train)\n",
    "nb_preds = NB.predict(X_test)\n",
    "confusion_table(nb_preds, y_test)"
   ]
  },
  {
   "cell_type": "code",
   "execution_count": 32,
   "id": "3afc0c2e",
   "metadata": {
    "scrolled": true
   },
   "outputs": [
    {
     "name": "stdout",
     "output_type": "stream",
     "text": [
      "accuracy_score: 0.502\n"
     ]
    }
   ],
   "source": [
    "print(f'accuracy_score: {accuracy_score(nb_preds, y_test):.3}')"
   ]
  }
 ],
 "metadata": {
  "hide_input": false,
  "kernelspec": {
   "display_name": "Python 3 (ipykernel)",
   "language": "python",
   "name": "python3"
  },
  "language_info": {
   "codemirror_mode": {
    "name": "ipython",
    "version": 3
   },
   "file_extension": ".py",
   "mimetype": "text/x-python",
   "name": "python",
   "nbconvert_exporter": "python",
   "pygments_lexer": "ipython3",
   "version": "3.9.12"
  }
 },
 "nbformat": 4,
 "nbformat_minor": 5
}
